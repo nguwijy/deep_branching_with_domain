{
 "cells": [
  {
   "cell_type": "markdown",
   "metadata": {
    "id": "GSuvC0ycqjNq",
    "pycharm": {
     "name": "#%% md\n"
    }
   },
   "source": [
    "# Imports & basic configuration"
   ]
  },
  {
   "cell_type": "code",
   "execution_count": 1,
   "metadata": {
    "colab": {
     "base_uri": "https://localhost:8080/"
    },
    "executionInfo": {
     "elapsed": 2706,
     "status": "ok",
     "timestamp": 1647940111437,
     "user": {
      "displayName": "nguwi jy",
      "photoUrl": "https://lh3.googleusercontent.com/a-/AOh14GgoiFFc59OKXMvhrMZCwWWzqPAzDXA1ooQ_zi8p=s64",
      "userId": "17294038731682000497"
     },
     "user_tz": -480
    },
    "id": "6357edd9",
    "outputId": "f45d2e8e-9123-4654-b639-cb824fdfdbdc",
    "pycharm": {
     "name": "#%%\n"
    }
   },
   "outputs": [],
   "source": [
    "try:\n",
    "    # always cd to the right directory in google colab\n",
    "    from google.colab import drive\n",
    "    drive.mount('/content/drive')\n",
    "    %cd \"/content/drive/MyDrive/Colab Notebooks/branch_full/deep_branching\"\n",
    "except:\n",
    "    pass\n",
    "\n",
    "import math\n",
    "from scipy import special\n",
    "import numpy as np\n",
    "import torch\n",
    "import matplotlib.pyplot as plt\n",
    "import time\n",
    "from branch import Net\n",
    "import logging\n",
    "from pynverse import inversefunc\n",
    "\n",
    "device = torch.device(\"cuda\" if torch.cuda.is_available() else \"cpu\")"
   ]
  },
  {
   "cell_type": "code",
   "execution_count": 2,
   "metadata": {
    "colab": {
     "base_uri": "https://localhost:8080/"
    },
    "executionInfo": {
     "elapsed": 362,
     "status": "ok",
     "timestamp": 1647940117264,
     "user": {
      "displayName": "nguwi jy",
      "photoUrl": "https://lh3.googleusercontent.com/a-/AOh14GgoiFFc59OKXMvhrMZCwWWzqPAzDXA1ooQ_zi8p=s64",
      "userId": "17294038731682000497"
     },
     "user_tz": -480
    },
    "id": "GKSN0XXSwzs_",
    "outputId": "479076d5-d9fa-418a-99aa-b38c14893038",
    "pycharm": {
     "name": "#%%\n"
    }
   },
   "outputs": [
    {
     "name": "stdout",
     "output_type": "stream",
     "text": [
      "torch version: 1.11.0+cu113\n",
      "torchaudio version: 0.11.0+cu113\n",
      "torchvision version: 0.12.0+cu113\n"
     ]
    }
   ],
   "source": [
    "# perfect reproducibility is not guaranteed with different version of torch\n",
    "#\n",
    "import torchaudio\n",
    "import torchvision\n",
    "\n",
    "print(f\"torch version: {torch.__version__}\")\n",
    "print(f\"torchaudio version: {torchaudio.__version__}\")\n",
    "print(f\"torchvision version: {torchvision.__version__}\")"
   ]
  },
  {
   "cell_type": "code",
   "execution_count": 3,
   "metadata": {
    "colab": {
     "base_uri": "https://localhost:8080/"
    },
    "executionInfo": {
     "elapsed": 29,
     "status": "ok",
     "timestamp": 1647940111438,
     "user": {
      "displayName": "nguwi jy",
      "photoUrl": "https://lh3.googleusercontent.com/a-/AOh14GgoiFFc59OKXMvhrMZCwWWzqPAzDXA1ooQ_zi8p=s64",
      "userId": "17294038731682000497"
     },
     "user_tz": -480
    },
    "id": "W8KR70pwVNfJ",
    "outputId": "0971b8c8-a20c-424a-d81f-1b53d6b34b84",
    "pycharm": {
     "name": "#%%\n"
    }
   },
   "outputs": [
    {
     "name": "stdout",
     "output_type": "stream",
     "text": [
      "Information of the allocated GPU.\n",
      "Fri May 20 22:31:11 2022       \r\n",
      "+-----------------------------------------------------------------------------+\r\n",
      "| NVIDIA-SMI 510.60.02    Driver Version: 510.60.02    CUDA Version: 11.6     |\r\n",
      "|-------------------------------+----------------------+----------------------+\r\n",
      "| GPU  Name        Persistence-M| Bus-Id        Disp.A | Volatile Uncorr. ECC |\r\n",
      "| Fan  Temp  Perf  Pwr:Usage/Cap|         Memory-Usage | GPU-Util  Compute M. |\r\n",
      "|                               |                      |               MIG M. |\r\n",
      "|===============================+======================+======================|\r\n",
      "|   0  NVIDIA GeForce ...  Off  | 00000000:07:00.0  On |                  N/A |\r\n",
      "| 50%   60C    P5    53W / 350W |    194MiB / 12288MiB |      5%      Default |\r\n",
      "|                               |                      |                  N/A |\r\n",
      "+-------------------------------+----------------------+----------------------+\r\n",
      "                                                                               \r\n",
      "+-----------------------------------------------------------------------------+\r\n",
      "| Processes:                                                                  |\r\n",
      "|  GPU   GI   CI        PID   Type   Process name                  GPU Memory |\r\n",
      "|        ID   ID                                                   Usage      |\r\n",
      "|=============================================================================|\r\n",
      "|    0   N/A  N/A       741      G   /usr/lib/Xorg                     185MiB |\r\n",
      "|    0   N/A  N/A    510306      G   /usr/lib/firefox/firefox            3MiB |\r\n",
      "+-----------------------------------------------------------------------------+\r\n"
     ]
    }
   ],
   "source": [
    "print(\"Information of the allocated GPU.\")\n",
    "!nvidia-smi"
   ]
  },
  {
   "cell_type": "markdown",
   "metadata": {
    "id": "puBETzqybZc7",
    "pycharm": {
     "name": "#%% md\n"
    }
   },
   "source": [
    "# Taylor-Green"
   ]
  },
  {
   "cell_type": "code",
   "execution_count": 4,
   "metadata": {
    "id": "_fyuebzCGhoj",
    "pycharm": {
     "name": "#%%\n"
    }
   },
   "outputs": [],
   "source": [
    "# function definition\n",
    "deriv_map = np.array(\n",
    "    [\n",
    "        [1, 0],  # for nabla p\n",
    "        [0, 1],\n",
    "        [0, 0],  # for u\n",
    "        [0, 0],\n",
    "        [1, 0],  # for nabla u1\n",
    "        [0, 1],\n",
    "        [1, 0],  # for nabla u2\n",
    "        [0, 1],\n",
    "    ]\n",
    ")\n",
    "zeta_map = np.array([-1, -1, 0, 1, 0, 0, 1, 1])\n",
    "deriv_condition_deriv_map = np.array(\n",
    "    [\n",
    "        [1, 0],\n",
    "        [0, 1],\n",
    "    ]\n",
    ")\n",
    "deriv_condition_zeta_map = np.array([0, 1])\n",
    "_, dim = deriv_map.shape\n",
    "\n",
    "def f_example(y, coordinate):\n",
    "    \"\"\"\n",
    "    idx 0 -> no deriv\n",
    "    \"\"\"\n",
    "    f = -y[coordinate]\n",
    "    for j in range(dim):\n",
    "        f += -y[dim + j] * y[2 * dim + dim * coordinate + j]\n",
    "    return f\n",
    "\n",
    "def phi_example(x, coordinate):\n",
    "    if coordinate == 0:\n",
    "        return -torch.cos(x[0]) * torch.sin(x[1])\n",
    "    else:\n",
    "        return torch.sin(x[0]) * torch.cos(x[1])\n",
    "\n",
    "problem_name = \"taylor_green_2d\"\n",
    "t_lo, x_lo, x_hi = 0., 0, 2 * math.pi"
   ]
  },
  {
   "cell_type": "markdown",
   "metadata": {},
   "source": [
    "## T = .25, nu = 2"
   ]
  },
  {
   "cell_type": "code",
   "execution_count": 5,
   "metadata": {},
   "outputs": [],
   "source": [
    "T, nu = .25, 2\n",
    "def exact_example(t, x, T, i):\n",
    "    if i == 0:\n",
    "        return -np.cos(x[0]) * np.sin(x[1]) * np.exp(-nu * (T - t))\n",
    "    else:\n",
    "        return np.sin(x[0]) * np.cos(x[1]) * np.exp(-nu * (T - t))"
   ]
  },
  {
   "cell_type": "code",
   "execution_count": 7,
   "metadata": {
    "colab": {
     "base_uri": "https://localhost:8080/",
     "height": 1000
    },
    "executionInfo": {
     "elapsed": 1819106,
     "status": "ok",
     "timestamp": 1647941958787,
     "user": {
      "displayName": "nguwi jy",
      "photoUrl": "https://lh3.googleusercontent.com/a-/AOh14GgoiFFc59OKXMvhrMZCwWWzqPAzDXA1ooQ_zi8p=s64",
      "userId": "17294038731682000497"
     },
     "user_tz": -480
    },
    "id": "z249CC8jhDwl",
    "outputId": "874b2413-7201-4162-8d26-03b16de8216a",
    "pycharm": {
     "name": "#%%\n"
    },
    "scrolled": true
   },
   "outputs": [
    {
     "name": "stderr",
     "output_type": "stream",
     "text": [
      "Patch 0: generation of p samples take 34.43255305290222 seconds.\n",
      "Patch  0: epoch    0 with loss 2.95E+00\n",
      "Patch  0: epoch  500 with loss 6.35E-03\n",
      "Patch  0: epoch 1000 with loss 3.98E-03\n",
      "Patch  0: epoch 1500 with loss 1.42E-03\n",
      "Patch  0: epoch 2000 with loss 1.21E-03\n",
      "Patch  0: epoch 2500 with loss 1.22E-03\n",
      "Patch  0: epoch 2999 with loss 1.20E-03\n",
      "Patch0: pre-training of p with 3000 epochs takes   50 seconds.\n",
      "Patch 0: generation of u samples take 111.19200801849365 seconds.\n",
      "Patch  0: epoch    0 with loss 7.24E-01\n",
      "Patch  0: epoch  500 with loss 3.75E-02\n",
      "Patch  0: epoch 1000 with loss 3.58E-02\n",
      "Patch  0: epoch 1500 with loss 3.51E-02\n",
      "Patch  0: epoch 2000 with loss 3.51E-02\n",
      "Patch  0: epoch 2500 with loss 3.51E-02\n",
      "Patch  0: epoch 2999 with loss 3.51E-02\n",
      "Patch 0: training of u with 3000 epochs take 34.469738721847534 seconds.\n"
     ]
    },
    {
     "data": {
      "image/png": "[encoded data removed]",
      "text/plain": [
       "<Figure size 432x288 with 1 Axes>"
      ]
     },
     "metadata": {
      "needs_background": "light"
     },
     "output_type": "display_data"
    },
    {
     "data": {
      "image/png": "[encoded data removed]",
      "text/plain": [
       "<Figure size 432x288 with 1 Axes>"
      ]
     },
     "metadata": {
      "needs_background": "light"
     },
     "output_type": "display_data"
    }
   ],
   "source": [
    "torch.manual_seed(0)\n",
    "model = Net(\n",
    "    problem_name=problem_name,\n",
    "    f_fun=f_example,\n",
    "    deriv_map=deriv_map,\n",
    "    zeta_map=zeta_map,\n",
    "    deriv_condition_deriv_map=deriv_condition_deriv_map,\n",
    "    deriv_condition_zeta_map=deriv_condition_zeta_map,\n",
    "    phi_fun=phi_example,\n",
    "    device=device,\n",
    "    x_lo=x_lo,\n",
    "    x_hi=x_hi,\n",
    "    T=T,\n",
    "    verbose=True,\n",
    "    nu=nu,\n",
    "    branch_nb_path_per_state=1000,\n",
    "    branch_nb_states=100000,\n",
    "    branch_nb_states_per_batch=1000,\n",
    "    fix_all_dim_except_first=False,\n",
    "    epochs=10000,\n",
    "    lr_gamma=0.1,\n",
    "    branch_lr=1e-2,\n",
    "    branch_activation=\"tanh\",\n",
    "    neurons=100,\n",
    "    layers=2,\n",
    ")\n",
    "model.train_and_eval()\n",
    "model.compare_with_exact(exact_fun=exact_example)"
   ]
  },
  {
   "cell_type": "markdown",
   "metadata": {},
   "source": [
    "## T = 1, nu = .2"
   ]
  },
  {
   "cell_type": "code",
   "execution_count": null,
   "metadata": {},
   "outputs": [],
   "source": [
    "T, nu = 1, .2\n",
    "def exact_example(t, x, T, i):\n",
    "    if i == 0:\n",
    "        return -np.cos(x[0]) * np.sin(x[1]) * np.exp(-nu * (T - t))\n",
    "    else:\n",
    "        return np.sin(x[0]) * np.cos(x[1]) * np.exp(-nu * (T - t))"
   ]
  },
  {
   "cell_type": "code",
   "execution_count": null,
   "metadata": {
    "colab": {
     "base_uri": "https://localhost:8080/",
     "height": 1000
    },
    "executionInfo": {
     "elapsed": 1819106,
     "status": "ok",
     "timestamp": 1647941958787,
     "user": {
      "displayName": "nguwi jy",
      "photoUrl": "https://lh3.googleusercontent.com/a-/AOh14GgoiFFc59OKXMvhrMZCwWWzqPAzDXA1ooQ_zi8p=s64",
      "userId": "17294038731682000497"
     },
     "user_tz": -480
    },
    "id": "z249CC8jhDwl",
    "outputId": "874b2413-7201-4162-8d26-03b16de8216a",
    "pycharm": {
     "name": "#%%\n"
    }
   },
   "outputs": [],
   "source": [
    "torch.manual_seed(0)\n",
    "model = Net(\n",
    "    problem_name=problem_name,\n",
    "    f_fun=f_example,\n",
    "    deriv_map=deriv_map,\n",
    "    zeta_map=zeta_map,\n",
    "    deriv_condition_deriv_map=deriv_condition_deriv_map,\n",
    "    deriv_condition_zeta_map=deriv_condition_zeta_map,\n",
    "    phi_fun=phi_example,\n",
    "    device=device,\n",
    "    x_lo=x_lo,\n",
    "    x_hi=x_hi,\n",
    "    T=T,\n",
    "    verbose=True,\n",
    "    nu=nu,\n",
    "    branch_nb_path_per_state=1000,\n",
    "    branch_nb_states=100000,\n",
    "    branch_nb_states_per_batch=1000,\n",
    "    fix_all_dim_except_first=False,\n",
    "    epochs=10000,\n",
    "    lr_gamma=0.1,\n",
    "    branch_lr=1e-2,\n",
    "    branch_activation=\"tanh\",\n",
    "    neurons=100,\n",
    "    layers=2,\n",
    ")\n",
    "model.train_and_eval()\n",
    "model.compare_with_exact(exact_fun=exact_example)"
   ]
  },
  {
   "cell_type": "markdown",
   "metadata": {},
   "source": [
    "## T = 10, nu = .02"
   ]
  },
  {
   "cell_type": "code",
   "execution_count": null,
   "metadata": {},
   "outputs": [],
   "source": [
    "T, nu = 10, .02\n",
    "def exact_example(t, x, T, i):\n",
    "    if i == 0:\n",
    "        return -np.cos(x[0]) * np.sin(x[1]) * np.exp(-nu * (T - t))\n",
    "    else:\n",
    "        return np.sin(x[0]) * np.cos(x[1]) * np.exp(-nu * (T - t))"
   ]
  },
  {
   "cell_type": "code",
   "execution_count": null,
   "metadata": {
    "colab": {
     "base_uri": "https://localhost:8080/",
     "height": 1000
    },
    "executionInfo": {
     "elapsed": 1819106,
     "status": "ok",
     "timestamp": 1647941958787,
     "user": {
      "displayName": "nguwi jy",
      "photoUrl": "https://lh3.googleusercontent.com/a-/AOh14GgoiFFc59OKXMvhrMZCwWWzqPAzDXA1ooQ_zi8p=s64",
      "userId": "17294038731682000497"
     },
     "user_tz": -480
    },
    "id": "z249CC8jhDwl",
    "outputId": "874b2413-7201-4162-8d26-03b16de8216a",
    "pycharm": {
     "name": "#%%\n"
    }
   },
   "outputs": [],
   "source": [
    "torch.manual_seed(0)\n",
    "model = Net(\n",
    "    problem_name=problem_name,\n",
    "    f_fun=f_example,\n",
    "    deriv_map=deriv_map,\n",
    "    zeta_map=zeta_map,\n",
    "    deriv_condition_deriv_map=deriv_condition_deriv_map,\n",
    "    deriv_condition_zeta_map=deriv_condition_zeta_map,\n",
    "    phi_fun=phi_example,\n",
    "    device=device,\n",
    "    x_lo=x_lo,\n",
    "    x_hi=x_hi,\n",
    "    T=T,\n",
    "    verbose=True,\n",
    "    nu=nu,\n",
    "    branch_nb_path_per_state=1000,\n",
    "    branch_nb_states=100000,\n",
    "    branch_nb_states_per_batch=1000,\n",
    "    fix_all_dim_except_first=False,\n",
    "    epochs=10000,\n",
    "    lr_gamma=0.1,\n",
    "    branch_lr=1e-2,\n",
    "    branch_activation=\"tanh\",\n",
    "    neurons=100,\n",
    "    layers=2,\n",
    ")\n",
    "model.train_and_eval()\n",
    "model.compare_with_exact(exact_fun=exact_example)"
   ]
  },
  {
   "cell_type": "markdown",
   "metadata": {
    "id": "puBETzqybZc7",
    "pycharm": {
     "name": "#%% md\n"
    }
   },
   "source": [
    "# ABC"
   ]
  },
  {
   "cell_type": "code",
   "execution_count": 4,
   "metadata": {
    "id": "_fyuebzCGhoj",
    "pycharm": {
     "name": "#%%\n"
    }
   },
   "outputs": [],
   "source": [
    "A = B = C = 0.5\n",
    "\n",
    "# function definition\n",
    "deriv_map = np.array(\n",
    "    [\n",
    "        [1, 0, 0],  # for nabla p\n",
    "        [0, 1, 0],\n",
    "        [0, 0, 1],\n",
    "        [0, 0, 0],  # for u\n",
    "        [0, 0, 0],\n",
    "        [0, 0, 0],\n",
    "        [1, 0, 0],  # for nabla u1\n",
    "        [0, 1, 0],\n",
    "        [0, 0, 1],\n",
    "        [1, 0, 0],  # for nabla u2\n",
    "        [0, 1, 0],\n",
    "        [0, 0, 1],\n",
    "        [1, 0, 0],  # for nabla u3\n",
    "        [0, 1, 0],\n",
    "        [0, 0, 1],\n",
    "    ]\n",
    ")\n",
    "zeta_map = np.array([-1, -1, -1, 0, 1, 2, 0, 0, 0, 1, 1, 1, 2, 2, 2])\n",
    "deriv_condition_deriv_map = np.array(\n",
    "    [\n",
    "        [1, 0, 0],\n",
    "        [0, 1, 0],\n",
    "        [0, 0, 1],\n",
    "    ]\n",
    ")\n",
    "deriv_condition_zeta_map = np.array([0, 1, 2])\n",
    "\n",
    "_, dim = deriv_map.shape\n",
    "\n",
    "def f_example(y, coordinate):\n",
    "    \"\"\"\n",
    "    idx 0 -> no deriv\n",
    "    \"\"\"\n",
    "    f = -y[coordinate]\n",
    "    for j in range(dim):\n",
    "        f += -y[dim + j] * y[2 * dim + dim * coordinate + j]\n",
    "    return f\n",
    "\n",
    "def phi_example(x, coordinate):\n",
    "    if coordinate == 0:\n",
    "        return A * torch.sin(x[2]) + C * torch.cos(x[1])\n",
    "    elif coordinate == 1:\n",
    "        return B * torch.sin(x[0]) + A * torch.cos(x[2])\n",
    "    else:\n",
    "        return C * torch.sin(x[1]) + B * torch.cos(x[0])\n",
    "\n",
    "problem_name = \"abd_3d\"\n",
    "t_lo, x_lo, x_hi = 0., 0, 2 * math.pi"
   ]
  },
  {
   "cell_type": "markdown",
   "metadata": {},
   "source": [
    "## T = .7, nu = .02"
   ]
  },
  {
   "cell_type": "code",
   "execution_count": null,
   "metadata": {},
   "outputs": [],
   "source": [
    "T, nu = .7, .02\n",
    "def exact_example(t, x, T, i):\n",
    "    if i == 0:\n",
    "        return -np.cos(x[0]) * np.sin(x[1]) * np.exp(-nu * (T - t))\n",
    "    else:\n",
    "        return np.sin(x[0]) * np.cos(x[1]) * np.exp(-nu * (T - t))"
   ]
  },
  {
   "cell_type": "code",
   "execution_count": null,
   "metadata": {
    "colab": {
     "base_uri": "https://localhost:8080/",
     "height": 1000
    },
    "executionInfo": {
     "elapsed": 1819106,
     "status": "ok",
     "timestamp": 1647941958787,
     "user": {
      "displayName": "nguwi jy",
      "photoUrl": "https://lh3.googleusercontent.com/a-/AOh14GgoiFFc59OKXMvhrMZCwWWzqPAzDXA1ooQ_zi8p=s64",
      "userId": "17294038731682000497"
     },
     "user_tz": -480
    },
    "id": "z249CC8jhDwl",
    "outputId": "874b2413-7201-4162-8d26-03b16de8216a",
    "pycharm": {
     "name": "#%%\n"
    }
   },
   "outputs": [],
   "source": [
    "torch.manual_seed(0)\n",
    "model = Net(\n",
    "    problem_name=problem_name,\n",
    "    f_fun=f_example,\n",
    "    deriv_map=deriv_map,\n",
    "    zeta_map=zeta_map,\n",
    "    deriv_condition_deriv_map=deriv_condition_deriv_map,\n",
    "    deriv_condition_zeta_map=deriv_condition_zeta_map,\n",
    "    phi_fun=phi_example,\n",
    "    device=device,\n",
    "    x_lo=x_lo,\n",
    "    x_hi=x_hi,\n",
    "    T=T,\n",
    "    verbose=True,\n",
    "    nu=nu,\n",
    "    branch_nb_path_per_state=1000,\n",
    "    branch_nb_states=100000,\n",
    "    branch_nb_states_per_batch=1000,\n",
    "    fix_all_dim_except_first=False,\n",
    "    epochs=10000,\n",
    "    lr_gamma=0.1,\n",
    "    branch_lr=1e-2,\n",
    "    branch_activation=\"tanh\",\n",
    "    neurons=100,\n",
    "    layers=2,\n",
    ")\n",
    "model.train_and_eval()\n",
    "model.compare_with_exact(exact_fun=exact_example)"
   ]
  },
  {
   "cell_type": "markdown",
   "metadata": {},
   "source": [
    "## T = .7, nu = .0002"
   ]
  },
  {
   "cell_type": "code",
   "execution_count": null,
   "metadata": {},
   "outputs": [],
   "source": [
    "T, nu = .7, .0002\n",
    "def exact_example(t, x, T, i):\n",
    "    if i == 0:\n",
    "        return -np.cos(x[0]) * np.sin(x[1]) * np.exp(-nu * (T - t))\n",
    "    else:\n",
    "        return np.sin(x[0]) * np.cos(x[1]) * np.exp(-nu * (T - t))"
   ]
  },
  {
   "cell_type": "code",
   "execution_count": null,
   "metadata": {
    "colab": {
     "base_uri": "https://localhost:8080/",
     "height": 1000
    },
    "executionInfo": {
     "elapsed": 1819106,
     "status": "ok",
     "timestamp": 1647941958787,
     "user": {
      "displayName": "nguwi jy",
      "photoUrl": "https://lh3.googleusercontent.com/a-/AOh14GgoiFFc59OKXMvhrMZCwWWzqPAzDXA1ooQ_zi8p=s64",
      "userId": "17294038731682000497"
     },
     "user_tz": -480
    },
    "id": "z249CC8jhDwl",
    "outputId": "874b2413-7201-4162-8d26-03b16de8216a",
    "pycharm": {
     "name": "#%%\n"
    }
   },
   "outputs": [],
   "source": [
    "torch.manual_seed(0)\n",
    "model = Net(\n",
    "    problem_name=problem_name,\n",
    "    f_fun=f_example,\n",
    "    deriv_map=deriv_map,\n",
    "    zeta_map=zeta_map,\n",
    "    deriv_condition_deriv_map=deriv_condition_deriv_map,\n",
    "    deriv_condition_zeta_map=deriv_condition_zeta_map,\n",
    "    phi_fun=phi_example,\n",
    "    device=device,\n",
    "    x_lo=x_lo,\n",
    "    x_hi=x_hi,\n",
    "    T=T,\n",
    "    verbose=True,\n",
    "    nu=nu,\n",
    "    branch_nb_path_per_state=1000,\n",
    "    branch_nb_states=100000,\n",
    "    branch_nb_states_per_batch=1000,\n",
    "    fix_all_dim_except_first=False,\n",
    "    epochs=10000,\n",
    "    lr_gamma=0.1,\n",
    "    branch_lr=1e-2,\n",
    "    branch_activation=\"tanh\",\n",
    "    neurons=100,\n",
    "    layers=2,\n",
    ")\n",
    "model.train_and_eval()\n",
    "model.compare_with_exact(exact_fun=exact_example)"
   ]
  }
 ],
 "metadata": {
  "accelerator": "GPU",
  "colab": {
   "collapsed_sections": [
    "GSuvC0ycqjNq",
    "XC4ej7xCLaN1",
    "Rr6nHqQLYdLJ",
    "lGC3MnEEHLtv",
    "fQXKDk7IexOm",
    "u_dYHEeePLeD"
   ],
   "name": "comparison.ipynb",
   "provenance": [
    {
     "file_id": "/v2/external/notebooks/pro.ipynb",
     "timestamp": 1644891847321
    }
   ]
  },
  "kernelspec": {
   "display_name": "Python 3 (ipykernel)",
   "language": "python",
   "name": "python3"
  },
  "language_info": {
   "codemirror_mode": {
    "name": "ipython",
    "version": 3
   },
   "file_extension": ".py",
   "mimetype": "text/x-python",
   "name": "python",
   "nbconvert_exporter": "python",
   "pygments_lexer": "ipython3",
   "version": "3.10.4"
  }
 },
 "nbformat": 4,
 "nbformat_minor": 1
}
