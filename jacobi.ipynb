{
 "cells": [
  {
   "cell_type": "code",
   "execution_count": 1,
   "metadata": {},
   "outputs": [],
   "source": [
    "import math\n",
    "import time\n",
    "import torch\n",
    "import torch.nn.functional as F\n",
    "import matplotlib.pyplot as plt\n",
    "import numpy as np\n",
    "from scipy.stats import norm\n"
   ]
  },
  {
   "cell_type": "code",
   "execution_count": 2,
   "metadata": {},
   "outputs": [],
   "source": [
    "a, b = -2, 2\n",
    "\n",
    "def conditional_probability_to_survive(t, x, y, k_arr=range(-1, 1)):\n",
    "    ans = 0\n",
    "    for k in k_arr:\n",
    "        ans += (\n",
    "                exp(((y - x) ** 2 - (y - x + 2 * k * (b - a)) ** 2) / (2 * t))\n",
    "                - exp(((y - x) ** 2 - (y + x - 2 * a + 2 * k * (b - a)) ** 2) / (2 * t))\n",
    "        )\n",
    "    return ans"
   ]
  },
  {
   "cell_type": "code",
   "execution_count": 3,
   "metadata": {},
   "outputs": [],
   "source": [
    "from mpmath import *\n",
    "mp.dps = 5; mp.pretty = True"
   ]
  },
  {
   "cell_type": "code",
   "execution_count": 4,
   "metadata": {},
   "outputs": [],
   "source": [
    "def conditional_probability_to_survive_2(t, x, y):\n",
    "    return sqrt(2*pi*t)*exp((y - x)**2/2/t)*(jtheta(3,pi*(x-y)/2/(a-b),exp(-pi**2*t/2/(b-a)**2))-jtheta(3,pi*(y+x-2*a)/2/(b-a),exp(-pi**2*t/2/(b-a)**2)))/2/(b-a)"
   ]
  },
  {
   "cell_type": "code",
   "execution_count": 5,
   "metadata": {},
   "outputs": [
    {
     "data": {
      "text/plain": [
       "-0.16642"
      ]
     },
     "execution_count": 5,
     "metadata": {},
     "output_type": "execute_result"
    }
   ],
   "source": [
    "conditional_probability_to_survive_2(0.3,1.9861419200897217,-1.986928939819336)"
   ]
  },
  {
   "cell_type": "code",
   "execution_count": 6,
   "metadata": {},
   "outputs": [
    {
     "data": {
      "text/plain": [
       "0.089236"
      ]
     },
     "execution_count": 6,
     "metadata": {},
     "output_type": "execute_result"
    }
   ],
   "source": [
    "conditional_probability_to_survive(0.3,1.9861419200897217,-1.986928939819336,range(-5, 5))"
   ]
  },
  {
   "cell_type": "code",
   "execution_count": 18,
   "metadata": {},
   "outputs": [
    {
     "data": {
      "image/png": "[encoded data removed]",
      "text/plain": [
       "<Figure size 432x288 with 1 Axes>"
      ]
     },
     "metadata": {
      "needs_background": "light"
     },
     "output_type": "display_data"
    }
   ],
   "source": [
    "c = (lambda t: conditional_probability_to_survive(t,1,3,range(-1, 1)))\n",
    "c_2 = (lambda t: conditional_probability_to_survive_2(t,1,3))\n",
    "\n",
    "t = np.linspace(0.3,1,100)\n",
    "c_vect = np.vectorize(c)\n",
    "c_2_vect = np.vectorize(c_2)\n",
    "\n",
    "plt.plot(t,c_vect(t))\n",
    "plt.plot(t,c_2_vect(t))\n",
    "plt.show()"
   ]
  },
  {
   "cell_type": "code",
   "execution_count": null,
   "metadata": {},
   "outputs": [],
   "source": []
  }
 ],
 "metadata": {
  "accelerator": "GPU",
  "colab": {
   "collapsed_sections": [
    "GSuvC0ycqjNq",
    "XC4ej7xCLaN1",
    "Rr6nHqQLYdLJ",
    "lGC3MnEEHLtv",
    "fQXKDk7IexOm",
    "u_dYHEeePLeD"
   ],
   "name": "comparison.ipynb",
   "provenance": [
    {
     "file_id": "/v2/external/notebooks/pro.ipynb",
     "timestamp": 1644891847321
    }
   ]
  },
  "kernelspec": {
   "display_name": "Python 3 (ipykernel)",
   "language": "python",
   "name": "python3"
  },
  "language_info": {
   "codemirror_mode": {
    "name": "ipython",
    "version": 3
   },
   "file_extension": ".py",
   "mimetype": "text/x-python",
   "name": "python",
   "nbconvert_exporter": "python",
   "pygments_lexer": "ipython3",
   "version": "3.10.4"
  }
 },
 "nbformat": 4,
 "nbformat_minor": 1
}
