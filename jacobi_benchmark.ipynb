{
 "cells": [
  {
   "cell_type": "code",
   "execution_count": 15,
   "metadata": {},
   "outputs": [],
   "source": [
    "import math\n",
    "import time\n",
    "import torch\n",
    "import torch.nn.functional as F\n",
    "import matplotlib.pyplot as plt\n",
    "import numpy as np\n",
    "from scipy.stats import norm\n",
    "from mpmath import mp, jtheta\n",
    "\n",
    "mp.dps = 5; mp.pretty = True\n",
    "np_jtheta = np.frompyfunc(jtheta, nin=3, nout=1)\n",
    "device = torch.device(\"cuda\" if torch.cuda.is_available() else \"cpu\")"
   ]
  },
  {
   "cell_type": "code",
   "execution_count": 16,
   "metadata": {},
   "outputs": [],
   "source": [
    "a, b = -2, 2\n",
    "\n",
    "def conditional_probability_to_survive(t, x, y, k_arr=range(-5, 5)):\n",
    "    ans = 0\n",
    "    for k in k_arr:\n",
    "        ans += (\n",
    "                torch.exp(((y - x) ** 2 - (y - x + 2 * k * (b - a)) ** 2) / (2 * t))\n",
    "                - torch.exp(((y - x) ** 2 - (y + x - 2 * a + 2 * k * (b - a)) ** 2) / (2 * t))\n",
    "        )\n",
    "    return ans\n",
    "\n",
    "def conditional_probability_to_survive_2(t, x, y):\n",
    "    x, y = x.cpu().detach().numpy(), y.cpu().detach().numpy()\n",
    "    ans_in_np = (\n",
    "        np.sqrt(2*math.pi*t)\n",
    "        * np.exp((y - x)**2 / (2*t))\n",
    "        * (\n",
    "            np_jtheta(3, math.pi * (x-y) / (2*(a-b)), np.exp(-math.pi**2*t / (2*(b-a)**2)))\n",
    "            - np_jtheta(3, math.pi * (y+x-2*a)/(2*(b-a)), np.exp(-math.pi**2*t / (2*(b-a)**2)))\n",
    "        )\n",
    "        /(2*(b-a))\n",
    "    )\n",
    "    return torch.tensor(np.array(ans_in_np, dtype=float), dtype=torch.get_default_dtype(), device=device)"
   ]
  },
  {
   "cell_type": "code",
   "execution_count": 20,
   "metadata": {},
   "outputs": [
    {
     "name": "stdout",
     "output_type": "stream",
     "text": [
      "Approx takes 0.0013048648834228516 seconds; Exact takes 7.748569011688232 seconds.\n",
      "Max diff is 0.42206886410713196 at index 55802.\n",
      "Approx[55802] = 0.08923652768135071; Exact[55802] = -0.33283233642578125.\n",
      "x[55802] = 1.9861419200897217; y[55802] = -1.986928939819336.\n"
     ]
    }
   ],
   "source": [
    "sample_size = 100000\n",
    "t = 0.3\n",
    "lo, hi = a, b\n",
    "\n",
    "x = lo + (hi - lo) * torch.rand(sample_size, device=device)\n",
    "y = lo + (hi - lo) * torch.rand(sample_size, device=device)\n",
    "# approximation\n",
    "start = time.time()\n",
    "approx = conditional_probability_to_survive(t, x, y)\n",
    "approx_time = time.time() - start\n",
    "# exact\n",
    "start = time.time()\n",
    "exact = conditional_probability_to_survive_2(t, x, y)\n",
    "exact_time = time.time() - start\n",
    "# print results\n",
    "diff = (approx - exact).abs().max().item()\n",
    "idx = (approx - exact).abs().argmax().item()\n",
    "\n",
    "print(f\"Approx takes {approx_time} seconds; Exact takes {exact_time} seconds.\")\n",
    "print(f\"Max diff is {diff} at index {idx}.\")\n",
    "print(f\"Approx[{idx}] = {approx[idx]}; Exact[{idx}] = {exact[idx]}.\")\n",
    "print(f\"x[{idx}] = {x[idx]}; y[{idx}] = {y[idx]}.\")"
   ]
  }
 ],
 "metadata": {
  "accelerator": "GPU",
  "colab": {
   "collapsed_sections": [
    "GSuvC0ycqjNq",
    "XC4ej7xCLaN1",
    "Rr6nHqQLYdLJ",
    "lGC3MnEEHLtv",
    "fQXKDk7IexOm",
    "u_dYHEeePLeD"
   ],
   "name": "comparison.ipynb",
   "provenance": [
    {
     "file_id": "/v2/external/notebooks/pro.ipynb",
     "timestamp": 1644891847321
    }
   ]
  },
  "kernelspec": {
   "display_name": "Python 3 (ipykernel)",
   "language": "python",
   "name": "python3"
  },
  "language_info": {
   "codemirror_mode": {
    "name": "ipython",
    "version": 3
   },
   "file_extension": ".py",
   "mimetype": "text/x-python",
   "name": "python",
   "nbconvert_exporter": "python",
   "pygments_lexer": "ipython3",
   "version": "3.10.4"
  }
 },
 "nbformat": 4,
 "nbformat_minor": 1
}
