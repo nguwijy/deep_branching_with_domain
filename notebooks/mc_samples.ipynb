{
 "cells": [
  {
   "cell_type": "markdown",
   "id": "abc7ade6",
   "metadata": {},
   "source": [
    "<table align=\"left\">\n",
    "  <td>\n",
    "    <a href=\"https://colab.research.google.com/github/nguwijy/deep_branching_with_domain/blob/master/notebooks/mc_samples.ipynb\" target=\"_parent\"><img src=\"https://colab.research.google.com/assets/colab-badge.svg\" alt=\"Open In Colab\"/></a>\n",
    "  </td>\n",
    "</table>"
   ]
  },
  {
   "cell_type": "code",
   "execution_count": 1,
   "id": "c0e306ab",
   "metadata": {},
   "outputs": [],
   "source": [
    "import os\n",
    "import sys\n",
    "# install the package if not yet installed\n",
    "try:\n",
    "    from branch.branch import Net\n",
    "except:\n",
    "    !python -m pip install git+https://github.com/nguwijy/deep_branching_with_domain.git\n",
    "    from branch.branch import Net\n",
    "import numbers\n",
    "import math\n",
    "import time\n",
    "import torch\n",
    "import torch.nn.functional as F\n",
    "import matplotlib.pyplot as plt\n",
    "import matplotlib.colors\n",
    "from matplotlib import cm \n",
    "import numpy as np\n",
    "from scipy.stats import norm\n",
    "from functools import partial\n",
    "from branch.galerkin import DGMNet\n",
    "\n",
    "device = torch.device(\"cuda\" if torch.cuda.is_available() else \"cpu\")"
   ]
  },
  {
   "cell_type": "markdown",
   "id": "3b7a7863",
   "metadata": {},
   "source": [
    "## Introduction\n",
    "In this notebook, we show how to obtain the Monte Carlo samples\n",
    "without training the neural network using three examples.\n",
    "Suppose we are interested in\n",
    "evaluating the solution $u(t, x)$\n",
    "at $t = 0$ and $x = (x_0, \\ldots, x_{d-2}, x_{d-1}) = (0, \\ldots, 0, X)$,\n",
    "where $X$ are the uniform points between x_lo and x_hi.\n",
    "\n",
    "Firstly, we generate the `tx` grid.\n",
    "```python\n",
    "tx = torch.zeros(nb_spatial, model.dim_in + 1, device=device)\n",
    "tx[:, -1] = torch.linspace(model.x_lo, model.x_hi, nb_spatial)\n",
    "```\n",
    "\n",
    "Secondly, we use the function `gen_sample` available in `branch.branch` module\n",
    "to generate samples.\n",
    "If we do not specify the keyword `tx` when calling `gen_sample`,\n",
    "the function will generate uniform random variable for `tx`\n",
    "and evaluate the solution based on the uniformly generated `tx`.\n",
    "However, if we pass the keyword `tx`,\n",
    "the function will evaluate the solution based on the `tx` that we specified.\n",
    "```python\n",
    "x, y = model.gen_sample(patch=0, tx=tx)\n",
    "```\n",
    "\n",
    "Then, we can plot `y` together with the exact solution for comparison.\n",
    "The steps are summarized in the `simulate_mc_and_plot` function below."
   ]
  },
  {
   "cell_type": "code",
   "execution_count": 2,
   "id": "ef110c87",
   "metadata": {},
   "outputs": [],
   "source": [
    "def simulate_mc_and_plot(model, nb_spatial=10, repeats=1):\n",
    "    tx = torch.zeros(nb_spatial, model.dim_in + 1, device=device)\n",
    "    tx[:, -1] = torch.linspace(model.x_lo, model.x_hi, nb_spatial)\n",
    "    mc = 0\n",
    "    for _ in range(repeats):\n",
    "        x, y = model.gen_sample(patch=0, tx=tx)\n",
    "        mc += y[:, 0].cpu()\n",
    "    mc /= repeats\n",
    "    \n",
    "    # original grid for mc\n",
    "    mc_grid = tx[:, -1].cpu()\n",
    "    # finer grid for exact solution\n",
    "    x = np.zeros((model.dim_in, 10 * nb_spatial))\n",
    "    exact_grid = np.linspace(model.x_lo, model.x_hi, 10 * nb_spatial)\n",
    "    x[-1] = exact_grid\n",
    "    exact = exact_example(t=0, x=x, T=T, coordinate=0)\n",
    "    terminal = exact_example(t=T, x=x, T=T, coordinate=0)\n",
    "\n",
    "    # plot\n",
    "    plt.scatter(mc_grid, mc, s=50, facecolors='none', edgecolors='black', label='MC')\n",
    "    plt.plot(exact_grid, exact, color='black', label='exact')\n",
    "    plt.plot(exact_grid, terminal, '--',color='black', label='terminal')\n",
    "    plt.legend()\n",
    "    plt.show()"
   ]
  },
  {
   "cell_type": "markdown",
   "id": "6699e864",
   "metadata": {
    "id": "k5W-fTLwbZc_",
    "pycharm": {
     "name": "#%% md\n"
    }
   },
   "source": [
    "## Example 1: modified Burgers' equation 2\n",
    "$$\n",
    "\\partial_t u + \\frac{\\nu}{2} \\partial_{xx} u - u^2 \\partial_x u = 0,\n",
    "$$\n",
    "admits (asymptotically) the traveling wave solution\n",
    "$$\n",
    "u(t, x) = \\frac{x}{1 + T - t} \\left(1 + \\alpha \\sqrt{1 + T -t}\\exp\\left(\\frac{x^2}{2\\nu(1 + T - t)}\\right) \\right)^{-1}.\n",
    "$$\n",
    "Note that this solution is asymptotic\n",
    "as $\\nu \\to 0$,\n",
    "see e.g. [wolfram alpha](https://www.wolframalpha.com/input?i=D%5Bx%2F%28T-t%29%2F%281%2B2%E2%88%9A%28T-t%29E%5E%28x%5E2%2F%282a%28T-t%29%29%29%29%2Ct%5D%2B%28a%2F2%29D%5BD%5Bx%2F%28T-t%29%2F%281%2B2%E2%88%9A%28T-t%29E%5E%28x%5E2%2F%282a%28T-t%29%29%29%29%2Cx%5D%2Cx%5D-%28x%2F%28T-t%29%2F%281%2B2%E2%88%9A%28T-t%29E%5E%28x%5E2%2F%282a%28T-t%29%29%29%29%29%5E2D%5Bx%2F%28T-t%29%2F%281%2B2%E2%88%9A%28T-t%29E%5E%28x%5E2%2F%282a%28T-t%29%29%29%29%2Cx%5D).\n",
    "We try to reproduce Fig 1(b) in [this article](https://www.sciencedirect.com/science/article/pii/S0898122110004359).\n",
    "Note that $t$ in their Fig 1(b) is equal to $T + 1$ here."
   ]
  },
  {
   "cell_type": "code",
   "execution_count": 3,
   "id": "81a47db2",
   "metadata": {
    "id": "_fyuebzCGhoj",
    "pycharm": {
     "name": "#%%\n"
    }
   },
   "outputs": [],
   "source": [
    "problem_name = \"mbe2\"\n",
    "nu = .02\n",
    "alpha = 2\n",
    "\n",
    "# function definition\n",
    "deriv_map = np.array([0, 1]).reshape(-1, 1)\n",
    "def f_example(y, coordinate=0):\n",
    "    \"\"\"\n",
    "    idx 0 -> no deriv\n",
    "    idx 1 -> first deriv\n",
    "    \"\"\"\n",
    "    return - y[0]**2 * y[1]\n",
    "\n",
    "def phi_example(x, coordinate=0):\n",
    "    return x[0] / (1 + alpha * torch.exp(x[0]**2 / (2 * nu)))\n",
    "\n",
    "def exact_example(t, x, T, coordinate=0):\n",
    "    tt = 1 + T - t\n",
    "    return x[0] / tt / (1 + alpha * np.sqrt(tt) * np.exp(x[0]**2 / (2 * nu * tt)))\n",
    "\n",
    "x_lo, x_hi = 0., 1."
   ]
  },
  {
   "cell_type": "code",
   "execution_count": 4,
   "id": "a63122cb",
   "metadata": {
    "colab": {
     "base_uri": "https://localhost:8080/",
     "height": 1000
    },
    "executionInfo": {
     "elapsed": 1819106,
     "status": "ok",
     "timestamp": 1647941958787,
     "user": {
      "displayName": "nguwi jy",
      "photoUrl": "https://lh3.googleusercontent.com/a-/AOh14GgoiFFc59OKXMvhrMZCwWWzqPAzDXA1ooQ_zi8p=s64",
      "userId": "17294038731682000497"
     },
     "user_tz": -480
    },
    "id": "z249CC8jhDwl",
    "outputId": "874b2413-7201-4162-8d26-03b16de8216a",
    "pycharm": {
     "name": "#%%\n"
    },
    "scrolled": true
   },
   "outputs": [
    {
     "name": "stderr",
     "output_type": "stream",
     "text": [
      "Logs are saved in /home/nguwijy/deep_branching_with_domain/notebooks/logs/tmp\n"
     ]
    },
    {
     "data": {
      "image/png": "[encoded data removed]",
      "text/plain": [
       "<Figure size 432x288 with 1 Axes>"
      ]
     },
     "metadata": {
      "needs_background": "light"
     },
     "output_type": "display_data"
    }
   ],
   "source": [
    "patches = 1\n",
    "T = patches * 1\n",
    "\n",
    "# define NN and train\n",
    "torch.manual_seed(0)\n",
    "model = Net(\n",
    "    problem_name=problem_name,\n",
    "    f_fun=f_example,\n",
    "    deriv_map=deriv_map,\n",
    "    phi_fun=phi_example,\n",
    "    device=device,\n",
    "    x_lo=x_lo,\n",
    "    x_hi=x_hi,\n",
    "    T=T,\n",
    "    verbose=True,\n",
    "    nu=nu,\n",
    "    branch_patches=patches,\n",
    "    branch_nb_path_per_state=1000000,\n",
    "    save_as_tmp=True,\n",
    ")\n",
    "simulate_mc_and_plot(model)"
   ]
  },
  {
   "cell_type": "markdown",
   "id": "f847d7e4",
   "metadata": {
    "id": "k5W-fTLwbZc_",
    "pycharm": {
     "name": "#%% md\n"
    }
   },
   "source": [
    "## Example 1': modified Burgers' equation 3 using the same exact solution\n",
    "$$\n",
    "\\partial_t u + \\frac{\\nu}{2} \\partial_{xx} u - u^3 \\partial_x u = 0,\n",
    "$$\n",
    "admits (asymptotically) the traveling wave solution\n",
    "$$\n",
    "u(t, x) = \\frac{x}{1 + T - t} \\left(1 + \\alpha \\sqrt{1 + T -t}\\exp\\left(\\frac{x^2}{2\\nu(1 + T - t)}\\right) \\right)^{-1}.\n",
    "$$"
   ]
  },
  {
   "cell_type": "code",
   "execution_count": 5,
   "id": "bb17edfc",
   "metadata": {
    "id": "_fyuebzCGhoj",
    "pycharm": {
     "name": "#%%\n"
    }
   },
   "outputs": [],
   "source": [
    "problem_name = \"mbe3\"\n",
    "nu = .02\n",
    "alpha = 2\n",
    "\n",
    "# function definition\n",
    "deriv_map = np.array([0, 1]).reshape(-1, 1)\n",
    "def f_example(y, coordinate=0):\n",
    "    \"\"\"\n",
    "    idx 0 -> no deriv\n",
    "    idx 1 -> first deriv\n",
    "    \"\"\"\n",
    "    return - y[0]**3 * y[1]\n",
    "\n",
    "def phi_example(x, coordinate=0):\n",
    "    return x[0] / (1 + alpha * torch.exp(x[0]**2 / (2 * nu)))\n",
    "\n",
    "def exact_example(t, x, T, coordinate=0):\n",
    "    tt = 1 + T - t\n",
    "    return x[0] / tt / (1 + alpha * np.sqrt(tt) * np.exp(x[0]**2 / (2 * nu * tt)))\n",
    "\n",
    "x_lo, x_hi = 0., 1."
   ]
  },
  {
   "cell_type": "code",
   "execution_count": 6,
   "id": "f03b0549",
   "metadata": {
    "colab": {
     "base_uri": "https://localhost:8080/",
     "height": 1000
    },
    "executionInfo": {
     "elapsed": 1819106,
     "status": "ok",
     "timestamp": 1647941958787,
     "user": {
      "displayName": "nguwi jy",
      "photoUrl": "https://lh3.googleusercontent.com/a-/AOh14GgoiFFc59OKXMvhrMZCwWWzqPAzDXA1ooQ_zi8p=s64",
      "userId": "17294038731682000497"
     },
     "user_tz": -480
    },
    "id": "z249CC8jhDwl",
    "outputId": "874b2413-7201-4162-8d26-03b16de8216a",
    "pycharm": {
     "name": "#%%\n"
    },
    "scrolled": true
   },
   "outputs": [
    {
     "name": "stderr",
     "output_type": "stream",
     "text": [
      "Logs are saved in /home/nguwijy/deep_branching_with_domain/notebooks/logs/tmp\n"
     ]
    },
    {
     "data": {
      "image/png": "[encoded data removed]",
      "text/plain": [
       "<Figure size 432x288 with 1 Axes>"
      ]
     },
     "metadata": {
      "needs_background": "light"
     },
     "output_type": "display_data"
    }
   ],
   "source": [
    "patches = 1\n",
    "T = patches * 1\n",
    "\n",
    "# define NN and train\n",
    "torch.manual_seed(0)\n",
    "model = Net(\n",
    "    problem_name=problem_name,\n",
    "    f_fun=f_example,\n",
    "    deriv_map=deriv_map,\n",
    "    phi_fun=phi_example,\n",
    "    device=device,\n",
    "    x_lo=x_lo,\n",
    "    x_hi=x_hi,\n",
    "    T=T,\n",
    "    verbose=True,\n",
    "    nu=nu,\n",
    "    branch_patches=patches,\n",
    "    branch_nb_path_per_state=1000000,\n",
    "    save_as_tmp=True,\n",
    ")\n",
    "simulate_mc_and_plot(model)"
   ]
  },
  {
   "cell_type": "markdown",
   "id": "f59e1b49",
   "metadata": {
    "id": "k5W-fTLwbZc_",
    "pycharm": {
     "name": "#%% md\n"
    }
   },
   "source": [
    "## Example 2: modified Burgers' equation 3\n",
    "$$\n",
    "\\partial_t u + \\frac{\\nu}{2} \\partial_{xx} u - u^3 \\partial_x u = 0,\n",
    "$$\n",
    "with the terminal condition\n",
    "$$\n",
    "\\phi(x) = A \\sin \\left( \\frac{\\pi x}{d} \\right),\n",
    "$$\n",
    "admits the asymptotic solution\n",
    "\\begin{align*}\n",
    "u(t, x) &= e^{-k(T-t)} A_1 \\sin \\left( \\frac{\\pi x}{d} \\right) + e^{-4k(T-t)} B_1 (T-t) \\sin \\left( \\frac{2 \\pi x}{d} \\right) + e^{-4k(T-t)} B_2 \\sin \\left( \\frac{4 \\pi x}{d} \\right) \\\\\n",
    "& \\qquad - e^{-7k(T-t)} \\frac{d^2}{3 \\nu \\pi^2} \\sin \\left( \\frac{\\pi x}{d} \\right) \\left( D_1 (T-t) + E_1 + \\frac{d^2 D_1}{3 \\nu \\pi^2} \\right) \\\\\n",
    "& \\qquad + e^{-7k(T-t)} \\frac{d^2}{\\nu \\pi^2} \\sin \\left( \\frac{3 \\pi x}{d} \\right) \\left( D_2 (T-t) + E_2 - \\frac{d^2 D_2}{\\nu \\pi^2} \\right) \\\\\n",
    "& \\qquad + e^{-7k(T-t)} \\frac{d^2}{9 \\nu \\pi^2} \\sin \\left( \\frac{5 \\pi x}{d} \\right) \\left( D_3 (T-t) + E_3 - \\frac{d^2 D_3}{9 \\nu \\pi^2} \\right) \\\\\n",
    "& \\qquad + e^{-7k(T-t)} \\frac{d^2 E_4}{21 \\nu \\pi^2} \\sin \\left( \\frac{7 \\pi x}{d} \\right) + \\ldots,\n",
    "\\end{align*}\n",
    "where\n",
    "$A = 1$,\n",
    "$d = \\pi$,\n",
    "$k = \\frac{\\nu \\pi^2}{2 d^2}$,\n",
    "$A_1 = 0.365366$,\n",
    "$B_1 = -\\frac{A_1^4 \\pi}{4d}$,\n",
    "$B_2 = \\frac{A_1^4 d}{48 \\nu \\pi}$,\n",
    "$D_1 = \\frac{A_1^3 B_1 \\pi}{4 d}$,\n",
    "$D_2 = -\\frac{9 A_1^3 B_1 \\pi}{8 d}$,\n",
    "$D_3 = -\\frac{5 A_1^3 B_1 \\pi}{8 d}$,\n",
    "$E_1 = -\\frac{A_1^3 B_2 \\pi}{8 d}$,\n",
    "$E_2 = \\frac{9 A_1^3 B_2 \\pi}{8 d}$,\n",
    "$E_3 = -\\frac{15 A_1^3 B_2 \\pi}{8 d}$,\n",
    "$E_4 = \\frac{7 A_1^3 B_2 \\pi}{8 d}$,\n",
    "see e.g. [the article](https://www.sciencedirect.com/science/article/pii/S0898122110004359)."
   ]
  },
  {
   "cell_type": "code",
   "execution_count": 7,
   "id": "f7a5b1ef",
   "metadata": {},
   "outputs": [],
   "source": [
    "nu = 1e-2\n",
    "alpha = 2\n",
    "\n",
    "A = 1\n",
    "d = math.pi\n",
    "k = (nu * math.pi**2)/(2 * d**2)\n",
    "A1 = 0.365366\n",
    "B1 = -(A1**4 * math.pi)/(4 * d)\n",
    "B2 = (A1**4 * d)/(48 * nu * math.pi)\n",
    "D1 = (A1**3 * B1 * math.pi)/(4 * d)\n",
    "D2 = -(9 * A1**3 * B1 * math.pi)/(8 * d)\n",
    "D3 = -(5 * A1**3 * B1 * math.pi)/(8 * d)\n",
    "E1 = -(A1**3 * B2 * math.pi)/(8 * d)\n",
    "E2 = (9 * A1**3 * B2 * math.pi)/(8 * d)\n",
    "E3 = -(15 * A1**3 * B2 * math.pi)/(8 * d)\n",
    "E4 = (7 * A1**3 * B2 * math.pi)/(8 * d)\n",
    "\n",
    "# function definition\n",
    "deriv_map = np.array([0, 1]).reshape(-1, 1)\n",
    "def f_example(y, coordinate=0):\n",
    "    \"\"\"\n",
    "    idx 0 -> no deriv\n",
    "    idx 1 -> first deriv\n",
    "    \"\"\"\n",
    "    return - y[0]**3 * y[1]\n",
    "\n",
    "def phi_example(x, coordinate=0):\n",
    "    return A * torch.sin(math.pi * x[0] / d)\n",
    "\n",
    "def exact_example(t, x, T, coordinate=0):\n",
    "    if np.isclose(t, T):\n",
    "        return A * np.sin(math.pi * x[0] / d)\n",
    "        \n",
    "    return (\n",
    "        np.exp(-k * (T - t)) * A1 * np.sin(math.pi * x[0] / d)\n",
    "        + np.exp(-4 * k * (T - t)) * B1 * (T - t)\n",
    "            * np.sin(2 * math.pi * x[0] / d)\n",
    "        + np.exp(-4 * k * (T - t)) * B2 * np.sin(4 * math.pi * x[0] / d)\n",
    "        - np.exp(-7 * k * (T - t))\n",
    "            * (d**2)\n",
    "            / (3 * nu * math.pi**2)\n",
    "            * np.sin(math.pi * x[0] / d)\n",
    "            * (D1 * (T - t) + E1 + (d**2 * D1) / (3 * nu * math.pi**2))\n",
    "        + np.exp(-7 * k * (T - t))\n",
    "            * (d**2)\n",
    "            / (nu * math.pi**2)\n",
    "            * np.sin(3 * math.pi * x[0] / d)\n",
    "            * (D2 * (T - t) + E2 - (d**2 * D2) / (nu * math.pi**2))\n",
    "        + np.exp(-7 * k * (T - t))\n",
    "            * (d**2)\n",
    "            / (9 * nu * math.pi**2)\n",
    "            * np.sin(5 * math.pi * x[0] / d)\n",
    "            * (D3 * (T - t) + E3 - (d**2 * D3) / (9 * nu * math.pi**2))\n",
    "        + np.exp(-7 * k * (T - t))\n",
    "            * (d**2 * E4)\n",
    "            / (21 * nu * math.pi**2)\n",
    "            * np.sin(7 * math.pi * x[0] / d)\n",
    "    )\n",
    "\n",
    "x_lo, x_hi = 0., math.pi"
   ]
  },
  {
   "cell_type": "code",
   "execution_count": 8,
   "id": "2709adb3",
   "metadata": {},
   "outputs": [
    {
     "name": "stderr",
     "output_type": "stream",
     "text": [
      "Logs are saved in /home/nguwijy/deep_branching_with_domain/notebooks/logs/tmp\n"
     ]
    },
    {
     "data": {
      "image/png": "[encoded data removed]",
      "text/plain": [
       "<Figure size 432x288 with 1 Axes>"
      ]
     },
     "metadata": {
      "needs_background": "light"
     },
     "output_type": "display_data"
    }
   ],
   "source": [
    "patches = 1\n",
    "T = patches * 1\n",
    "\n",
    "# define NN and train\n",
    "torch.manual_seed(0)\n",
    "model = Net(\n",
    "    problem_name=problem_name,\n",
    "    f_fun=f_example,\n",
    "    deriv_map=deriv_map,\n",
    "    phi_fun=phi_example,\n",
    "    device=device,\n",
    "    x_lo=x_lo,\n",
    "    x_hi=x_hi,\n",
    "    T=T,\n",
    "    verbose=True,\n",
    "    nu=nu,\n",
    "    branch_patches=patches,\n",
    "    branch_nb_path_per_state=1000000,\n",
    "    save_as_tmp=True,\n",
    ")\n",
    "simulate_mc_and_plot(model)"
   ]
  },
  {
   "cell_type": "markdown",
   "id": "0c670074",
   "metadata": {},
   "source": [
    "The MC samples are close to the terminal condition, and seems to be the correct solution.\n",
    "However, the asymptotic solution (marked as exact) provided by Bratsos does not work for $T = 1$.\n",
    "Hence, we are unable to benchmark the correctness of MC samples."
   ]
  },
  {
   "cell_type": "markdown",
   "id": "2edb7c8f",
   "metadata": {},
   "source": [
    "## Example 3: time-dependent Poiseuille flow\n",
    "We consider the 2D Navier-Stokes equation inside the square $[-L, L]^2$. For this, we let the wall be the horizontal lines $y = L$ and $y = L$, and let the inlet at $x = -L$ flowing to the direction $x = L$.\n",
    "\n",
    "It can be checked that the velocity flow $u(t, x, y) = (g(t, y), 0)$ with the pressure $p(t, x, y) = \\alpha v_0^2 - \\frac{\\nu v_0}{L^2} x$ satisfies the Navier-Stokes equation\n",
    "$$\n",
    "\\partial_t u(t,x) + \\frac{\\nu}{2} \\Delta u(t,x) =\\nabla p(t,x) + ( u \\cdot \\nabla ) u,\n",
    "$$\n",
    "with the divergence free condition ${\\rm div \\ \\! } u = 0$,\n",
    "where\n",
    "$$\n",
    "g(t, y) = v_0 \\left( 1 - \\frac{y^2}{L^2} \\right) + \\sum\\limits_{n=0}^\\infty \\frac{(-1)^{n+1} 32 v_0}{\\pi^3(2n+1)^3} \\cos \\frac{(2n+1)\\pi y}{2L} \\exp\\left(- \\frac{(2n+1)^2 \\pi^2 \\nu (T-t)}{8L^2}\\right).\n",
    "$$"
   ]
  },
  {
   "cell_type": "code",
   "execution_count": 9,
   "id": "78796868",
   "metadata": {},
   "outputs": [],
   "source": [
    "# the formula given by Borodin, see compare_boundary_method.ipynb fore more information\n",
    "def conditional_probability_to_survive(\n",
    "    t,\n",
    "    x,\n",
    "    y,\n",
    "    k_arr=range(-5, 5),\n",
    "    lower_bound=-10,\n",
    "    upper_bound=10,\n",
    "):\n",
    "    # in case lower_bound & upper_bound are not tensor\n",
    "    if not torch.is_tensor(lower_bound):\n",
    "        lower_bound = torch.tensor(lower_bound, device=device)\n",
    "    if not torch.is_tensor(upper_bound):\n",
    "        upper_bound = torch.tensor(upper_bound, device=device)\n",
    "\n",
    "    # transpose (t, x, y)\n",
    "    # so that the operation with lower_bound, upper_bound is correct\n",
    "    t = t.unsqueeze(dim=0).transpose(0, -1)\n",
    "    x, y = x.transpose(0, -1), y.transpose(0, -1)\n",
    "\n",
    "    # calculate the probability using the formula by Borodin\n",
    "    ans = 0\n",
    "    for k in k_arr:\n",
    "        ans += (\n",
    "            torch.exp(\n",
    "                ((y - x) ** 2 - (y - x + 2*k*(upper_bound-lower_bound)) ** 2) \n",
    "                / (2 * t)\n",
    "            )\n",
    "            - torch.exp(\n",
    "                ((y - x) ** 2 - (y + x - 2*lower_bound + 2*k*(upper_bound-lower_bound)) ** 2) \n",
    "                / (2 * t)\n",
    "            )\n",
    "        )\n",
    "    return ans.transpose(0, -1).prod(dim=0)\n",
    "\n",
    "def is_x_inside(x, lower_bound=-10, upper_bound=10):\n",
    "    # in case lower_bound & upper_bound are not tensor\n",
    "    if not torch.is_tensor(lower_bound):\n",
    "        lower_bound = torch.tensor(lower_bound, device=device)\n",
    "    if not torch.is_tensor(upper_bound):\n",
    "        upper_bound = torch.tensor(upper_bound, device=device)\n",
    "\n",
    "    # transpose x so that the operation with lower_bound, upper_bound is correct\n",
    "    x = x.transpose(0, -1)\n",
    "\n",
    "    return (\n",
    "        torch.logical_and(lower_bound <= x, x <= upper_bound)\n",
    "        .transpose(0, -1).all(dim=0)\n",
    "    )"
   ]
  },
  {
   "cell_type": "code",
   "execution_count": 10,
   "id": "4176e03a",
   "metadata": {},
   "outputs": [],
   "source": [
    "problem_name = \"navier_stokes_poiseuille\"\n",
    "nu = 5e-9\n",
    "v0 = 1.25e-5\n",
    "L = 5e-3\n",
    "alpha = 2\n",
    "\n",
    "t_lo, x_lo, x_hi = 0., -L, L\n",
    "\n",
    "# function definition\n",
    "deriv_map = np.array(\n",
    "    [\n",
    "        [1, 0],  # for nabla p\n",
    "        [0, 1],\n",
    "        [0, 0],  # for u\n",
    "        [0, 0],\n",
    "        [1, 0],  # for nabla u1\n",
    "        [0, 1],\n",
    "        [1, 0],  # for nabla u2\n",
    "        [0, 1],\n",
    "    ]\n",
    ")\n",
    "zeta_map = np.array([-1, -1, 0, 1, 0, 0, 1, 1])\n",
    "deriv_condition_deriv_map = np.array(\n",
    "    [\n",
    "        [1, 0],\n",
    "        [0, 1],\n",
    "    ]\n",
    ")\n",
    "deriv_condition_zeta_map = np.array([0, 1])\n",
    "_, dim = deriv_map.shape\n",
    "\n",
    "def f_example(y, coordinate):\n",
    "    \"\"\"\n",
    "    idx 0 -> no deriv\n",
    "    \"\"\"\n",
    "    f = -y[coordinate]\n",
    "    for j in range(dim):\n",
    "        f += -y[dim + j] * y[2 * dim + dim * coordinate + j]\n",
    "    return f\n",
    "\n",
    "def phi_example(x, coordinate, nb_sums=5):\n",
    "    if coordinate == 0:\n",
    "        ans = v0 * (1 - x[1]**2 / L**2)\n",
    "        for n in range(nb_sums):\n",
    "            ans += (\n",
    "                32 * (-1)**(n+1) * v0 / (math.pi * (2*n+1))**3\n",
    "                * torch.cos((2*n+1) * math.pi * x[1] / (2 * L))\n",
    "            )\n",
    "        return ans\n",
    "    else:\n",
    "        return torch.zeros_like(x[0])\n",
    "\n",
    "def exact_example_(t, x, T, coordinate, nb_sums=5):\n",
    "    if coordinate == 0:\n",
    "        ans = v0 * (1 - x[1]**2 / L**2)\n",
    "        for n in range(nb_sums):\n",
    "            ans += (\n",
    "                32 * (-1)**(n+1) * v0 / (math.pi * (2*n+1))**3\n",
    "                * np.cos((2*n+1) * math.pi * x[1] / (2 * L))\n",
    "                * np.exp(\n",
    "                    -((2*n+1)**2 * math.pi**2 * nu * (T - t))/(8 * L**2)\n",
    "                )\n",
    "            )\n",
    "        return ans\n",
    "    else:\n",
    "        return np.zeros_like(x[0])\n",
    "\n",
    "def p_example_full(x, t):\n",
    "    return alpha * v0**2 - nu * v0 / L**2 * x[0]\n",
    "\n",
    "patches = 1\n",
    "T = patches * 10\n",
    "MAX_VAL = 100"
   ]
  },
  {
   "cell_type": "markdown",
   "id": "dd7e8896",
   "metadata": {},
   "source": [
    "### nb_sums = 0"
   ]
  },
  {
   "cell_type": "markdown",
   "id": "546e69b0",
   "metadata": {},
   "source": [
    "Summing 0 term corresponds to starting and staying with the staionary flow $v_0 \\left( 1 - \\frac{y^2}{L^2} \\right)$,\n",
    "like [the simulation here](deep_branching_with_domain.ipynb#Navier-Stokes-equation-starting-with-the-stationary--Poiseuille-flow)."
   ]
  },
  {
   "cell_type": "code",
   "execution_count": 11,
   "id": "e45e35ae",
   "metadata": {},
   "outputs": [
    {
     "name": "stderr",
     "output_type": "stream",
     "text": [
      "Logs are saved in /home/nguwijy/deep_branching_with_domain/notebooks/logs/tmp\n"
     ]
    },
    {
     "data": {
      "image/png": "[encoded data removed]",
      "text/plain": [
       "<Figure size 432x288 with 1 Axes>"
      ]
     },
     "metadata": {
      "needs_background": "light"
     },
     "output_type": "display_data"
    }
   ],
   "source": [
    "nb_sums = 0\n",
    "exact_example = partial(exact_example_, nb_sums=nb_sums)\n",
    "\n",
    "# define NN and train\n",
    "torch.manual_seed(0)\n",
    "model = Net(\n",
    "    problem_name=problem_name,\n",
    "    f_fun=f_example,\n",
    "    deriv_map=deriv_map,\n",
    "    zeta_map=zeta_map,\n",
    "    deriv_condition_deriv_map=deriv_condition_deriv_map,\n",
    "    deriv_condition_zeta_map=deriv_condition_zeta_map,\n",
    "    exact_p_fun_full=p_example_full,\n",
    "    phi_fun=partial(phi_example, nb_sums=nb_sums),\n",
    "    conditional_probability_to_survive=partial(\n",
    "        conditional_probability_to_survive,\n",
    "        lower_bound=(-MAX_VAL, x_lo),\n",
    "        upper_bound=(MAX_VAL, x_hi),\n",
    "    ),\n",
    "    is_x_inside=partial(\n",
    "        is_x_inside,\n",
    "        lower_bound=(-MAX_VAL, x_lo),\n",
    "        upper_bound=(MAX_VAL, x_hi),\n",
    "    ),\n",
    "    device=device,\n",
    "    x_lo=x_lo,\n",
    "    x_hi=x_hi,\n",
    "    T=T,\n",
    "    nu=nu,\n",
    "    branch_patches=patches,\n",
    "    branch_nb_path_per_state=1000000,\n",
    "    save_as_tmp=True,\n",
    ")\n",
    "simulate_mc_and_plot(model)"
   ]
  },
  {
   "cell_type": "markdown",
   "id": "f2989439",
   "metadata": {},
   "source": [
    "### nb_sums = 100"
   ]
  },
  {
   "cell_type": "code",
   "execution_count": 12,
   "id": "9aac670b",
   "metadata": {},
   "outputs": [
    {
     "name": "stderr",
     "output_type": "stream",
     "text": [
      "Logs are saved in /home/nguwijy/deep_branching_with_domain/notebooks/logs/tmp\n"
     ]
    },
    {
     "data": {
      "image/png": "[encoded data removed]",
      "text/plain": [
       "<Figure size 432x288 with 1 Axes>"
      ]
     },
     "metadata": {
      "needs_background": "light"
     },
     "output_type": "display_data"
    }
   ],
   "source": [
    "nb_sums = 100\n",
    "exact_example = partial(exact_example_, nb_sums=nb_sums)\n",
    "\n",
    "# define NN and train\n",
    "torch.manual_seed(0)\n",
    "model = Net(\n",
    "    problem_name=problem_name,\n",
    "    f_fun=f_example,\n",
    "    deriv_map=deriv_map,\n",
    "    zeta_map=zeta_map,\n",
    "    deriv_condition_deriv_map=deriv_condition_deriv_map,\n",
    "    deriv_condition_zeta_map=deriv_condition_zeta_map,\n",
    "    exact_p_fun_full=p_example_full,\n",
    "    phi_fun=partial(phi_example, nb_sums=nb_sums),\n",
    "    conditional_probability_to_survive=partial(\n",
    "        conditional_probability_to_survive,\n",
    "        lower_bound=(-MAX_VAL, x_lo),\n",
    "        upper_bound=(MAX_VAL, x_hi),\n",
    "    ),\n",
    "    is_x_inside=partial(\n",
    "        is_x_inside,\n",
    "        lower_bound=(-MAX_VAL, x_lo),\n",
    "        upper_bound=(MAX_VAL, x_hi),\n",
    "    ),\n",
    "    device=device,\n",
    "    x_lo=x_lo,\n",
    "    x_hi=x_hi,\n",
    "    T=T,\n",
    "    nu=nu,\n",
    "    branch_patches=patches,\n",
    "    branch_nb_path_per_state=1000000,\n",
    "    save_as_tmp=True,\n",
    ")\n",
    "simulate_mc_and_plot(model)"
   ]
  }
 ],
 "metadata": {
  "colab": {
   "collapsed_sections": [
    "97ae5067",
    "0afe9392",
    "ba5139ff",
    "97999414",
    "cfb63dd9"
   ],
   "name": "tmp.ipynb",
   "provenance": []
  },
  "kernelspec": {
   "display_name": "Python 3 (ipykernel)",
   "language": "python",
   "name": "python3"
  },
  "language_info": {
   "codemirror_mode": {
    "name": "ipython",
    "version": 3
   },
   "file_extension": ".py",
   "mimetype": "text/x-python",
   "name": "python",
   "nbconvert_exporter": "python",
   "pygments_lexer": "ipython3",
   "version": "3.8.13"
  }
 },
 "nbformat": 4,
 "nbformat_minor": 5
}
