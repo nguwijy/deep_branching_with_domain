{
 "cells": [
  {
   "cell_type": "markdown",
   "id": "abc7ade6",
   "metadata": {},
   "source": [
    "<table align=\"left\">\n",
    "  <td>\n",
    "    <a href=\"https://colab.research.google.com/github/nguwijy/deep_branching_with_domain/blob/master/notebooks/mc_samples.ipynb\" target=\"_parent\"><img src=\"https://colab.research.google.com/assets/colab-badge.svg\" alt=\"Open In Colab\"/></a>\n",
    "  </td>\n",
    "</table>"
   ]
  },
  {
   "cell_type": "code",
   "execution_count": 1,
   "id": "c0e306ab",
   "metadata": {},
   "outputs": [],
   "source": [
    "import os\n",
    "import sys\n",
    "# install the package if not yet installed\n",
    "try:\n",
    "    from branch.branch import Net\n",
    "except:\n",
    "    !python -m pip install git+https://github.com/nguwijy/deep_branching_with_domain.git\n",
    "    from branch.branch import Net\n",
    "import numbers\n",
    "import math\n",
    "import time\n",
    "import torch\n",
    "import torch.nn.functional as F\n",
    "import matplotlib.pyplot as plt\n",
    "import matplotlib.colors\n",
    "from matplotlib import cm \n",
    "import numpy as np\n",
    "from scipy.stats import norm\n",
    "from functools import partial\n",
    "from branch.galerkin import DGMNet\n",
    "\n",
    "device = torch.device(\"cuda\" if torch.cuda.is_available() else \"cpu\")"
   ]
  },
  {
   "cell_type": "markdown",
   "id": "3b7a7863",
   "metadata": {},
   "source": [
    "## Introduction\n",
    "In this notebook, we show how to obtain the Monte Carlo samples\n",
    "without training the neural network using three examples.\n",
    "Suppose we are interested in\n",
    "evaluating the solution $u(t, x)$\n",
    "at $t = 0$ and $x = (x_0, \\ldots, x_{d-2}, x_{d-1}) = (0, \\ldots, 0, X)$,\n",
    "where $X$ are the uniform points between x_lo and x_hi.\n",
    "\n",
    "Firstly, we generate the `tx` grid.\n",
    "```python\n",
    "tx = torch.zeros(nb_spatial, model.dim_in + 1, device=device)\n",
    "tx[:, -1] = torch.linspace(model.x_lo, model.x_hi, nb_spatial)\n",
    "```\n",
    "\n",
    "Secondly, we use the function `gen_sample` available in `branch.branch` module\n",
    "to generate samples.\n",
    "If we do not specify the keyword `tx` when calling `gen_sample`,\n",
    "the function will generate uniform random variable for `tx`\n",
    "and evaluate the solution based on the uniformly generated `tx`.\n",
    "However, if we pass the keyword `tx`,\n",
    "the function will evaluate the solution based on the `tx` that we specified.\n",
    "```python\n",
    "x, y = model.gen_sample(patch=0, tx=tx)\n",
    "```\n",
    "\n",
    "Then, we can plot `y` together with the exact solution for comparison.\n",
    "The steps are summarized in the `simulate_mc_and_plot` function below."
   ]
  },
  {
   "cell_type": "code",
   "execution_count": 2,
   "id": "ef110c87",
   "metadata": {},
   "outputs": [],
   "source": [
    "def simulate_mc_and_plot(model, nb_spatial=10, repeats=1):\n",
    "    tx = torch.zeros(nb_spatial, model.dim_in + 1, device=device)\n",
    "    tx[:, -1] = torch.linspace(model.x_lo, model.x_hi, nb_spatial)\n",
    "    mc = 0\n",
    "    for _ in range(repeats):\n",
    "        x, y = model.gen_sample(patch=0, tx=tx)\n",
    "        mc += y[:, 0].cpu()\n",
    "    mc /= repeats\n",
    "    \n",
    "    # original grid for mc\n",
    "    mc_grid = tx[:, -1].cpu()\n",
    "    # finer grid for exact solution\n",
    "    x = np.zeros((model.dim_in, 10 * nb_spatial))\n",
    "    exact_grid = np.linspace(model.x_lo, model.x_hi, 10 * nb_spatial)\n",
    "    x[-1] = exact_grid\n",
    "    exact = exact_example(t=0, x=x, T=T, coordinate=0)\n",
    "    terminal = exact_example(t=T, x=x, T=T, coordinate=0)\n",
    "\n",
    "    # plot\n",
    "    plt.scatter(mc_grid, mc, s=50, facecolors='none', edgecolors='black', label='MC')\n",
    "    plt.plot(exact_grid, exact, color='black', label='exact')\n",
    "    plt.plot(exact_grid, terminal, '--',color='black', label='terminal')\n",
    "    plt.legend()\n",
    "    plt.show()"
   ]
  },
  {
   "cell_type": "markdown",
   "id": "2edb7c8f",
   "metadata": {},
   "source": [
    "## Example 3: time-dependent Poiseuille flow\n",
    "We consider the 2D Navier-Stokes equation inside the square $[-L, L]^2$. For this, we let the wall be the horizontal lines $y = L$ and $y = L$, and let the inlet at $x = -L$ flowing to the direction $x = L$.\n",
    "\n",
    "It can be checked that the velocity flow $u(t, x, y) = (g(t, y), 0)$ with the pressure $p(t, x, y) = \\alpha v_0^2 - \\frac{\\nu v_0}{L^2} x$ satisfies the Navier-Stokes equation\n",
    "$$\n",
    "\\partial_t u(t,x) + \\frac{\\nu}{2} \\Delta u(t,x) =\\nabla p(t,x) + ( u \\cdot \\nabla ) u,\n",
    "$$\n",
    "with the divergence free condition ${\\rm div \\ \\! } u = 0$,\n",
    "where\n",
    "$$\n",
    "g(t, y) = v_0 \\left( 1 - \\frac{y^2}{L^2} \\right) + \\sum\\limits_{n=0}^\\infty \\frac{(-1)^{n+1} 32 v_0}{\\pi^3(2n+1)^3} \\cos \\frac{(2n+1)\\pi y}{2L} \\exp\\left(- \\frac{(2n+1)^2 \\pi^2 \\nu (T-t)}{8L^2}\\right).\n",
    "$$\n",
    "We try to reproduce Fig 2 in [this article](https://www.researchgate.net/publication/222552962_SPH_simulations_of_time-dependent_Poiseuille_flow_at_low_Reynolds_numbers)."
   ]
  },
  {
   "cell_type": "code",
   "execution_count": 3,
   "id": "78796868",
   "metadata": {},
   "outputs": [],
   "source": [
    "# the formula given by Borodin, see compare_boundary_method.ipynb fore more information\n",
    "def conditional_probability_to_survive(\n",
    "    t,\n",
    "    x,\n",
    "    y,\n",
    "    k_arr=range(-5, 5),\n",
    "    lower_bound=-10,\n",
    "    upper_bound=10,\n",
    "):\n",
    "    # in case lower_bound & upper_bound are not tensor\n",
    "    if not torch.is_tensor(lower_bound):\n",
    "        lower_bound = torch.tensor(lower_bound, device=device)\n",
    "    if not torch.is_tensor(upper_bound):\n",
    "        upper_bound = torch.tensor(upper_bound, device=device)\n",
    "\n",
    "    # transpose (t, x, y)\n",
    "    # so that the operation with lower_bound, upper_bound is correct\n",
    "    t = t.unsqueeze(dim=0).transpose(0, -1)\n",
    "    x, y = x.transpose(0, -1), y.transpose(0, -1)\n",
    "\n",
    "    # calculate the probability using the formula by Borodin\n",
    "    ans = 0\n",
    "    for k in k_arr:\n",
    "        ans += (\n",
    "            torch.exp(\n",
    "                ((y - x) ** 2 - (y - x + 2*k*(upper_bound-lower_bound)) ** 2) \n",
    "                / (2 * t)\n",
    "            )\n",
    "            - torch.exp(\n",
    "                ((y - x) ** 2 - (y + x - 2*lower_bound + 2*k*(upper_bound-lower_bound)) ** 2) \n",
    "                / (2 * t)\n",
    "            )\n",
    "        )\n",
    "    return ans.transpose(0, -1).prod(dim=0)\n",
    "\n",
    "def is_x_inside(x, lower_bound=-10, upper_bound=10):\n",
    "    # in case lower_bound & upper_bound are not tensor\n",
    "    if not torch.is_tensor(lower_bound):\n",
    "        lower_bound = torch.tensor(lower_bound, device=device)\n",
    "    if not torch.is_tensor(upper_bound):\n",
    "        upper_bound = torch.tensor(upper_bound, device=device)\n",
    "\n",
    "    # transpose x so that the operation with lower_bound, upper_bound is correct\n",
    "    x = x.transpose(0, -1)\n",
    "\n",
    "    return (\n",
    "        torch.logical_and(lower_bound <= x, x <= upper_bound)\n",
    "        .transpose(0, -1).all(dim=0)\n",
    "    )"
   ]
  },
  {
   "cell_type": "code",
   "execution_count": 71,
   "id": "4176e03a",
   "metadata": {},
   "outputs": [],
   "source": [
    "problem_name = \"navier_stokes_poiseuille\"\n",
    "nu = 5e-9\n",
    "v0 = 1.25e-5\n",
    "L = 5e-3\n",
    "alpha = 2\n",
    "\n",
    "t_lo, x_lo, x_hi = 0., -L, L\n",
    "\n",
    "# function definition\n",
    "deriv_map = np.array(\n",
    "    [\n",
    "        [1, 0],  # for nabla p\n",
    "        [0, 1],\n",
    "        [0, 0],  # for u\n",
    "        [0, 0],\n",
    "        [1, 0],  # for nabla u1\n",
    "        [0, 1],\n",
    "        [1, 0],  # for nabla u2\n",
    "        [0, 1],\n",
    "    ]\n",
    ")\n",
    "zeta_map = np.array([-1, -1, 0, 1, 0, 0, 1, 1])\n",
    "deriv_condition_deriv_map = np.array(\n",
    "    [\n",
    "        [1, 0],\n",
    "        [0, 1],\n",
    "    ]\n",
    ")\n",
    "deriv_condition_zeta_map = np.array([0, 1])\n",
    "_, dim = deriv_map.shape\n",
    "\n",
    "def f_example(y, coordinate):\n",
    "    \"\"\"\n",
    "    idx 0 -> no deriv\n",
    "    \"\"\"\n",
    "    f = -y[coordinate]\n",
    "    for j in range(dim):\n",
    "        f += -y[dim + j] * y[2 * dim + dim * coordinate + j]\n",
    "    return f\n",
    "\n",
    "def phi_example(x, coordinate, nb_sums=5):\n",
    "    if coordinate == 0:\n",
    "        ans = v0 * (1 - x[1]**2 / L**2)\n",
    "        for n in range(nb_sums):\n",
    "            ans += (\n",
    "                32 * (-1)**(n+1) * v0 / (math.pi * (2*n+1))**3\n",
    "                * torch.cos((2*n+1) * math.pi * x[1] / (2 * L))\n",
    "            )\n",
    "        return ans\n",
    "    else:\n",
    "        return torch.zeros_like(x[0])\n",
    "\n",
    "def exact_example_(t, x, T, coordinate, nb_sums=5):\n",
    "    if coordinate == 0:\n",
    "        ans = v0 * (1 - x[1]**2 / L**2)\n",
    "        for n in range(nb_sums):\n",
    "            ans += (\n",
    "                32 * (-1)**(n+1) * v0 / (math.pi * (2*n+1))**3\n",
    "                * np.cos((2*n+1) * math.pi * x[1] / (2 * L))\n",
    "                * np.exp(\n",
    "                    -((2*n+1)**2 * math.pi**2 * nu * (T - t))/(8 * L**2)\n",
    "                )\n",
    "            )\n",
    "        return ans\n",
    "    else:\n",
    "        return np.zeros_like(x[0])\n",
    "\n",
    "def p_example_full(x, t):\n",
    "    return alpha * v0**2 - nu * v0 / L**2 * x[0]\n",
    "\n",
    "patches = 1\n",
    "T = patches * 10\n",
    "MAX_VAL = 100"
   ]
  },
  {
   "cell_type": "markdown",
   "id": "f2989439",
   "metadata": {},
   "source": [
    "### T = 10 & nb_sums = 10"
   ]
  },
  {
   "cell_type": "code",
   "execution_count": 72,
   "id": "9aac670b",
   "metadata": {},
   "outputs": [
    {
     "name": "stderr",
     "output_type": "stream",
     "text": [
      "Logs are saved in /home/nguwijy/deep_branching_with_domain/notebooks/logs/tmp\n"
     ]
    },
    {
     "data": {
      "image/png": "[encoded data removed]",
      "text/plain": [
       "<Figure size 432x288 with 1 Axes>"
      ]
     },
     "metadata": {
      "needs_background": "light"
     },
     "output_type": "display_data"
    }
   ],
   "source": [
    "T = patches * 10\n",
    "nb_sums = 10\n",
    "exact_example = partial(exact_example_, nb_sums=nb_sums)\n",
    "\n",
    "# define NN and train\n",
    "torch.manual_seed(0)\n",
    "model = Net(\n",
    "    problem_name=problem_name,\n",
    "    f_fun=f_example,\n",
    "    deriv_map=deriv_map,\n",
    "    zeta_map=zeta_map,\n",
    "    deriv_condition_deriv_map=deriv_condition_deriv_map,\n",
    "    deriv_condition_zeta_map=deriv_condition_zeta_map,\n",
    "    exact_p_fun_full=p_example_full,\n",
    "    phi_fun=partial(phi_example, nb_sums=nb_sums),\n",
    "    conditional_probability_to_survive=partial(\n",
    "        conditional_probability_to_survive,\n",
    "        lower_bound=(-MAX_VAL, x_lo),\n",
    "        upper_bound=(MAX_VAL, x_hi),\n",
    "    ),\n",
    "    is_x_inside=partial(\n",
    "        is_x_inside,\n",
    "        lower_bound=(-MAX_VAL, x_lo),\n",
    "        upper_bound=(MAX_VAL, x_hi),\n",
    "    ),\n",
    "    device=device,\n",
    "    x_lo=x_lo,\n",
    "    x_hi=x_hi,\n",
    "    T=T,\n",
    "    nu=nu,\n",
    "    branch_patches=patches,\n",
    "    branch_nb_path_per_state=1000000,\n",
    "    save_as_tmp=True,\n",
    ")\n",
    "simulate_mc_and_plot(model)"
   ]
  },
  {
   "cell_type": "markdown",
   "id": "4e74d093",
   "metadata": {},
   "source": [
    "### T = 10 & nb_sums = 100"
   ]
  },
  {
   "cell_type": "code",
   "execution_count": 74,
   "id": "01fd0fe5",
   "metadata": {
    "scrolled": false
   },
   "outputs": [
    {
     "name": "stderr",
     "output_type": "stream",
     "text": [
      "Logs are saved in /home/nguwijy/deep_branching_with_domain/notebooks/logs/tmp\n"
     ]
    },
    {
     "data": {
      "image/png": "[encoded data removed]",
      "text/plain": [
       "<Figure size 432x288 with 1 Axes>"
      ]
     },
     "metadata": {
      "needs_background": "light"
     },
     "output_type": "display_data"
    }
   ],
   "source": [
    "T = patches * 10\n",
    "nb_sums = 100\n",
    "exact_example = partial(exact_example_, nb_sums=nb_sums)\n",
    "\n",
    "# define NN and train\n",
    "torch.manual_seed(0)\n",
    "model = Net(\n",
    "    problem_name=problem_name,\n",
    "    f_fun=f_example,\n",
    "    deriv_map=deriv_map,\n",
    "    zeta_map=zeta_map,\n",
    "    deriv_condition_deriv_map=deriv_condition_deriv_map,\n",
    "    deriv_condition_zeta_map=deriv_condition_zeta_map,\n",
    "    exact_p_fun_full=p_example_full,\n",
    "    phi_fun=partial(phi_example, nb_sums=nb_sums),\n",
    "    conditional_probability_to_survive=partial(\n",
    "        conditional_probability_to_survive,\n",
    "        lower_bound=(-MAX_VAL, x_lo),\n",
    "        upper_bound=(MAX_VAL, x_hi),\n",
    "    ),\n",
    "    is_x_inside=partial(\n",
    "        is_x_inside,\n",
    "        lower_bound=(-MAX_VAL, x_lo),\n",
    "        upper_bound=(MAX_VAL, x_hi),\n",
    "    ),\n",
    "    device=device,\n",
    "    x_lo=x_lo,\n",
    "    x_hi=x_hi,\n",
    "    T=T,\n",
    "    nu=nu,\n",
    "    branch_patches=patches,\n",
    "    branch_nb_path_per_state=1000000,\n",
    "    save_as_tmp=True,\n",
    ")\n",
    "simulate_mc_and_plot(model)"
   ]
  },
  {
   "cell_type": "markdown",
   "id": "0ef881e0",
   "metadata": {},
   "source": [
    "## T = 1000 & nb_sums=100"
   ]
  },
  {
   "cell_type": "code",
   "execution_count": 80,
   "id": "5dcc08f9",
   "metadata": {},
   "outputs": [
    {
     "name": "stderr",
     "output_type": "stream",
     "text": [
      "Logs are saved in /home/nguwijy/deep_branching_with_domain/notebooks/logs/tmp\n"
     ]
    },
    {
     "data": {
      "image/png": "[encoded data removed]",
      "text/plain": [
       "<Figure size 432x288 with 1 Axes>"
      ]
     },
     "metadata": {
      "needs_background": "light"
     },
     "output_type": "display_data"
    }
   ],
   "source": [
    "T = patches * 1000\n",
    "nb_sums = 100\n",
    "exact_example = partial(exact_example_, nb_sums=nb_sums)\n",
    "\n",
    "# define NN and train\n",
    "torch.manual_seed(0)\n",
    "model = Net(\n",
    "    problem_name=problem_name,\n",
    "    f_fun=f_example,\n",
    "    deriv_map=deriv_map,\n",
    "    zeta_map=zeta_map,\n",
    "    deriv_condition_deriv_map=deriv_condition_deriv_map,\n",
    "    deriv_condition_zeta_map=deriv_condition_zeta_map,\n",
    "    exact_p_fun_full=p_example_full,\n",
    "    phi_fun=partial(phi_example, nb_sums=nb_sums),\n",
    "    conditional_probability_to_survive=partial(\n",
    "        conditional_probability_to_survive,\n",
    "        lower_bound=(-MAX_VAL, x_lo),\n",
    "        upper_bound=(MAX_VAL, x_hi),\n",
    "    ),\n",
    "    is_x_inside=partial(\n",
    "        is_x_inside,\n",
    "        lower_bound=(-MAX_VAL, x_lo),\n",
    "        upper_bound=(MAX_VAL, x_hi),\n",
    "    ),\n",
    "    device=device,\n",
    "    x_lo=x_lo,\n",
    "    x_hi=x_hi,\n",
    "    T=T,\n",
    "    nu=nu,\n",
    "    branch_patches=patches,\n",
    "    branch_nb_path_per_state=100000,\n",
    "    save_as_tmp=True,\n",
    ")\n",
    "simulate_mc_and_plot(model)"
   ]
  },
  {
   "cell_type": "markdown",
   "id": "de5aba49",
   "metadata": {},
   "source": [
    "## T = 100 & nb_sums=100"
   ]
  },
  {
   "cell_type": "code",
   "execution_count": 77,
   "id": "d16902d1",
   "metadata": {},
   "outputs": [
    {
     "name": "stderr",
     "output_type": "stream",
     "text": [
      "Logs are saved in /home/nguwijy/deep_branching_with_domain/notebooks/logs/tmp\n"
     ]
    },
    {
     "data": {
      "image/png": "[encoded data removed]",
      "text/plain": [
       "<Figure size 432x288 with 1 Axes>"
      ]
     },
     "metadata": {
      "needs_background": "light"
     },
     "output_type": "display_data"
    }
   ],
   "source": [
    "T = patches * 100\n",
    "nb_sums = 100\n",
    "exact_example = partial(exact_example_, nb_sums=nb_sums)\n",
    "\n",
    "# define NN and train\n",
    "torch.manual_seed(0)\n",
    "model = Net(\n",
    "    problem_name=problem_name,\n",
    "    f_fun=f_example,\n",
    "    deriv_map=deriv_map,\n",
    "    zeta_map=zeta_map,\n",
    "    deriv_condition_deriv_map=deriv_condition_deriv_map,\n",
    "    deriv_condition_zeta_map=deriv_condition_zeta_map,\n",
    "    exact_p_fun_full=p_example_full,\n",
    "    phi_fun=partial(phi_example, nb_sums=nb_sums),\n",
    "    conditional_probability_to_survive=partial(\n",
    "        conditional_probability_to_survive,\n",
    "        lower_bound=(-MAX_VAL, x_lo),\n",
    "        upper_bound=(MAX_VAL, x_hi),\n",
    "    ),\n",
    "    is_x_inside=partial(\n",
    "        is_x_inside,\n",
    "        lower_bound=(-MAX_VAL, x_lo),\n",
    "        upper_bound=(MAX_VAL, x_hi),\n",
    "    ),\n",
    "    device=device,\n",
    "    x_lo=x_lo,\n",
    "    x_hi=x_hi,\n",
    "    T=T,\n",
    "    nu=nu,\n",
    "    branch_patches=patches,\n",
    "    branch_nb_path_per_state=100000,\n",
    "    save_as_tmp=True,\n",
    ")\n",
    "simulate_mc_and_plot(model)"
   ]
  },
  {
   "cell_type": "markdown",
   "id": "df34cd0d",
   "metadata": {},
   "source": [
    "## T = 50 & nb_sums=100"
   ]
  },
  {
   "cell_type": "code",
   "execution_count": 78,
   "id": "181bca47",
   "metadata": {},
   "outputs": [
    {
     "name": "stderr",
     "output_type": "stream",
     "text": [
      "Logs are saved in /home/nguwijy/deep_branching_with_domain/notebooks/logs/tmp\n"
     ]
    },
    {
     "data": {
      "image/png": "[encoded data removed]",
      "text/plain": [
       "<Figure size 432x288 with 1 Axes>"
      ]
     },
     "metadata": {
      "needs_background": "light"
     },
     "output_type": "display_data"
    }
   ],
   "source": [
    "T = patches * 50\n",
    "nb_sums = 100\n",
    "exact_example = partial(exact_example_, nb_sums=nb_sums)\n",
    "\n",
    "# define NN and train\n",
    "torch.manual_seed(0)\n",
    "model = Net(\n",
    "    problem_name=problem_name,\n",
    "    f_fun=f_example,\n",
    "    deriv_map=deriv_map,\n",
    "    zeta_map=zeta_map,\n",
    "    deriv_condition_deriv_map=deriv_condition_deriv_map,\n",
    "    deriv_condition_zeta_map=deriv_condition_zeta_map,\n",
    "    exact_p_fun_full=p_example_full,\n",
    "    phi_fun=partial(phi_example, nb_sums=nb_sums),\n",
    "    conditional_probability_to_survive=partial(\n",
    "        conditional_probability_to_survive,\n",
    "        lower_bound=(-MAX_VAL, x_lo),\n",
    "        upper_bound=(MAX_VAL, x_hi),\n",
    "    ),\n",
    "    is_x_inside=partial(\n",
    "        is_x_inside,\n",
    "        lower_bound=(-MAX_VAL, x_lo),\n",
    "        upper_bound=(MAX_VAL, x_hi),\n",
    "    ),\n",
    "    device=device,\n",
    "    x_lo=x_lo,\n",
    "    x_hi=x_hi,\n",
    "    T=T,\n",
    "    nu=nu,\n",
    "    branch_patches=patches,\n",
    "    branch_nb_path_per_state=100000,\n",
    "    save_as_tmp=True,\n",
    ")\n",
    "simulate_mc_and_plot(model)"
   ]
  },
  {
   "cell_type": "markdown",
   "id": "27f3297d",
   "metadata": {},
   "source": [
    "## T = 20 & nb_sums=100"
   ]
  },
  {
   "cell_type": "code",
   "execution_count": 79,
   "id": "beb74ad0",
   "metadata": {},
   "outputs": [
    {
     "name": "stderr",
     "output_type": "stream",
     "text": [
      "Logs are saved in /home/nguwijy/deep_branching_with_domain/notebooks/logs/tmp\n"
     ]
    },
    {
     "data": {
      "image/png": "[encoded data removed]",
      "text/plain": [
       "<Figure size 432x288 with 1 Axes>"
      ]
     },
     "metadata": {
      "needs_background": "light"
     },
     "output_type": "display_data"
    }
   ],
   "source": [
    "T = patches * 20\n",
    "nb_sums = 100\n",
    "exact_example = partial(exact_example_, nb_sums=nb_sums)\n",
    "\n",
    "# define NN and train\n",
    "torch.manual_seed(0)\n",
    "model = Net(\n",
    "    problem_name=problem_name,\n",
    "    f_fun=f_example,\n",
    "    deriv_map=deriv_map,\n",
    "    zeta_map=zeta_map,\n",
    "    deriv_condition_deriv_map=deriv_condition_deriv_map,\n",
    "    deriv_condition_zeta_map=deriv_condition_zeta_map,\n",
    "    exact_p_fun_full=p_example_full,\n",
    "    phi_fun=partial(phi_example, nb_sums=nb_sums),\n",
    "    conditional_probability_to_survive=partial(\n",
    "        conditional_probability_to_survive,\n",
    "        lower_bound=(-MAX_VAL, x_lo),\n",
    "        upper_bound=(MAX_VAL, x_hi),\n",
    "    ),\n",
    "    is_x_inside=partial(\n",
    "        is_x_inside,\n",
    "        lower_bound=(-MAX_VAL, x_lo),\n",
    "        upper_bound=(MAX_VAL, x_hi),\n",
    "    ),\n",
    "    device=device,\n",
    "    x_lo=x_lo,\n",
    "    x_hi=x_hi,\n",
    "    T=T,\n",
    "    nu=nu,\n",
    "    branch_patches=patches,\n",
    "    branch_nb_path_per_state=100000,\n",
    "    save_as_tmp=True,\n",
    ")\n",
    "simulate_mc_and_plot(model)"
   ]
  }
 ],
 "metadata": {
  "colab": {
   "collapsed_sections": [
    "97ae5067",
    "0afe9392",
    "ba5139ff",
    "97999414",
    "cfb63dd9"
   ],
   "name": "tmp.ipynb",
   "provenance": []
  },
  "kernelspec": {
   "display_name": "Python 3 (ipykernel)",
   "language": "python",
   "name": "python3"
  },
  "language_info": {
   "codemirror_mode": {
    "name": "ipython",
    "version": 3
   },
   "file_extension": ".py",
   "mimetype": "text/x-python",
   "name": "python",
   "nbconvert_exporter": "python",
   "pygments_lexer": "ipython3",
   "version": "3.8.13"
  }
 },
 "nbformat": 4,
 "nbformat_minor": 5
}
