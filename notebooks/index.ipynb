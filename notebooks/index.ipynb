{
 "cells": [
  {
   "cell_type": "markdown",
   "metadata": {},
   "source": [
    "<table align=\"left\">\n",
    "  <td>\n",
    "    <a href=\"https://colab.research.google.com/github/nguwijy/deep_branching_with_domain/blob/master/notebooks/index.ipynb\" target=\"_parent\"><img src=\"https://colab.research.google.com/assets/colab-badge.svg\" alt=\"Open In Colab\"/></a>\n",
    "  </td>\n",
    "</table>"
   ]
  },
  {
   "cell_type": "markdown",
   "metadata": {},
   "source": [
    "# Deep branching solver for PDE system\n",
    "Deep branching solver based on [[NPP22]](#nguwi2022deepbranching)\n",
    "aims to solve system of fully nonlinear PDE system of the form\n",
    "$$\n",
    "\\begin{cases}\n",
    "\\partial_t u_i(t, x) + \\frac{\\nu}{2} \\Delta u_i(t, x) + f_i((\\partial_{\\alpha^j} u_{\\zeta^j}(t, x))_{0 \\le j < n}) = 0, \\quad 0 \\le i < d_{out}, \\\\\n",
    "u_i(T, x) = \\phi_i(x), \\\\\n",
    "\\Delta u_{-1}(t, x) = -\\sum\\limits_{i=0}^{d_{out}-1} \\partial_{1_i} u_j(t, x) \\partial_{1_j} u_i(t, x), \\\\\n",
    "\\sum\\limits_{i = 0}^{m - 1} \\partial_{\\alpha_{deriv}^i} u_{\\zeta_{deriv}^i}(t, x) = 0, \\quad (t, x) \\in [0, T] \\times \\Omega, \\quad \\Omega \\subset \\mathbb{R}^{d_{in}}.\n",
    "\\end{cases}\n",
    "$$\n",
    "\n",
    "[The html page](https://rawcdn.githack.com/nguwijy/deep_branching_with_domain/main/doc/branch/branch.html) records all documentation of the deep branching solver.\n",
    "To utilize the deep branching solver, you can:\n",
    "1. Edit [main.py](../main.py), then run `python main.py` from your terminal.\n",
    "2. Write your own code and import the solver to your code\n",
    "    via `from branch.branch import Net`.\n",
    "    This requires the solver to be installed in your machine."
   ]
  },
  {
   "cell_type": "markdown",
   "metadata": {},
   "source": [
    "## Notebooks\n",
    "1. [PDEs without boundary condition](deep_branching.ipynb):\n",
    "    6 PDE examples with `d_out=1` and without boundary condition\n",
    "    are presented.\n",
    "    In addition, deep branching solver is compared to\n",
    "    the deep BSDE method [[HJE18]](#han2018solving) and\n",
    "    the deep Galerkin method [[SS18]](#sirignano2018dgm).\n",
    "2. [Navier-Stokes equation without boundary condition](deep_navier_stokes.ipynb):\n",
    "    Navier-Stokes examples of Taylor-Green vortex, ABC flow, and rotating flow\n",
    "    without boundary condition are presented.\n",
    "    Total 13 log directories (5 of them are for Taylor-Green + ABC with larger domain of [0, 4pi]).\n",
    "3. [Two ways of specifying boundary condition](compare_boundary_method.ipynb):\n",
    "    Heat equation with boundary condition is presented to show\n",
    "    two ways of passing the boundary condition to deep branching solver.\n",
    "4. [Using Monte Carlo samples](coding_trees.ipynb):\n",
    "    3 examples are presented to show how to use the deep branching solver\n",
    "    to generate MC samples without fitting the neural network function.\n",
    "5. [PDE (and systems) with boundary condition](deep_branching_with_domain.ipynb)\n",
    "    Examples of heat equation, Kuramoto-Sivashinsky equation, and Navier-Stokes equation (Poiseuille flow)\n",
    "    with boundary condition are presented.\n",
    "    Total 4 log directories.\n",
    "    In addition, we show how to use patching to stabilize the deep branching algorithm.\n",
    "6. [Navier-Stokes equation with boundary condition](NS_with_domain.ipynb)\n",
    "    We attempt to apply Navier-Stokes equation with boundary condition beyond the Poiseuille flow,\n",
    "    but all results fail to be consistent among\n",
    "    terminal condition, boundary condition, and the divergence free condition.\n",
    "    Total 4 log directories.\n",
    "7. [Navier-Stokes equation using dolphinx](dolphinx.ipynb)\n",
    "    `dolphinx` is used to solve Navier-Stokes equation with boundary condition.\n",
    "8. [Tuning the model hyperparameter](parameter_tuning.ipynb)"
   ]
  },
  {
   "cell_type": "markdown",
   "metadata": {},
   "source": [
    "## References\n",
    "<a id=\"han2018solving\">[HJE18]</a>\n",
    "J. Han, A. Jentzen, and W. E.\n",
    "Solving high-dimensional partial differential equations using deep\n",
    "learning.\n",
    "*Proceedings of the National Academy of Sciences*,\n",
    "115(34):8505--8510, 2018.\n",
    "\n",
    "<a id=\"nguwi2022deepbranching\">[NPP22]</a>\n",
    "J.Y. Nguwi, G. Penent, and N. Privault.\n",
    "A deep branching solver for fully nonlinear partial differential equations.\n",
    "*arXiv preprint arXiv:2203.03234*, 2022.\n",
    "\n",
    "<a id=\"sirignano2018dgm\">[SS18]</a>\n",
    "J. Sirignano and K. Spiliopoulos.\n",
    "DGM: A deep learning algorithm for solving partial differential\n",
    "equations.\n",
    "*Journal of computational physics*,\n",
    "375:1339--1364, 2018."
   ]
  }
 ],
 "metadata": {
  "kernelspec": {
   "display_name": "Python 3 (ipykernel)",
   "language": "python",
   "name": "python3"
  },
  "language_info": {
   "codemirror_mode": {
    "name": "ipython",
    "version": 3
   },
   "file_extension": ".py",
   "mimetype": "text/x-python",
   "name": "python",
   "nbconvert_exporter": "python",
   "pygments_lexer": "ipython3",
   "version": "3.8.15"
  },
  "nav_menu": {},
  "toc": {
   "navigate_menu": true,
   "number_sections": true,
   "sideBar": true,
   "threshold": 6,
   "toc_cell": false,
   "toc_section_display": "block",
   "toc_window_display": false
  }
 },
 "nbformat": 4,
 "nbformat_minor": 4
}
