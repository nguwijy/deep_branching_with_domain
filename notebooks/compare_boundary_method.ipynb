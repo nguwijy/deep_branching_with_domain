{
 "cells": [
  {
   "cell_type": "code",
   "execution_count": 1,
   "id": "9743399e",
   "metadata": {
    "colab": {
     "base_uri": "https://localhost:8080/"
    },
    "executionInfo": {
     "elapsed": 6022,
     "status": "ok",
     "timestamp": 1654236438726,
     "user": {
      "displayName": "nguwi jy",
      "userId": "17294038731682000497"
     },
     "user_tz": -480
    },
    "id": "9743399e",
    "outputId": "510f59c6-0537-4bdf-f1b8-cca09e24bae8",
    "pycharm": {
     "name": "#%%\n"
    }
   },
   "outputs": [],
   "source": [
    "try:\n",
    "    # always cd to the right directory in google colab\n",
    "    from google.colab import drive\n",
    "    drive.mount('/content/drive')\n",
    "    %cd \"/content/drive/MyDrive/Colab Notebooks/deep_branching_with_domain\"\n",
    "except:\n",
    "    pass\n",
    "\n",
    "import os\n",
    "import sys\n",
    "import math\n",
    "import time\n",
    "import torch\n",
    "import torch.nn.functional as F\n",
    "import matplotlib.pyplot as plt\n",
    "import numpy as np\n",
    "from scipy.stats import norm\n",
    "from functools import partial\n",
    "# add parent directory to system so that we can import the modules correctly\n",
    "nb_dir = os.path.split(os.getcwd())[0]\n",
    "if nb_dir not in sys.path:\n",
    "    sys.path.append(nb_dir)\n",
    "from branch.galerkin import DGMNet\n",
    "from branch.branch import Net\n",
    "\n",
    "device = torch.device(\"cuda\" if torch.cuda.is_available() else \"cpu\")"
   ]
  },
  {
   "cell_type": "markdown",
   "id": "4784f476",
   "metadata": {},
   "source": [
    "At the current stage, we can only deal with zero boundary condition\n",
    "$$\n",
    "u(t, x) = 0,\n",
    "\\qquad x \\in \\partial \\Omega.\n",
    "$$\n",
    "For this, the usual deep branching algorithm\n",
    "\\begin{equation}\n",
    "c(u)(t,x) = \\mathbb{E} \\Biggl[\n",
    "1_{\\{\\tau_1 > T - t\\}}\n",
    "\\frac{c(u)(T, x + W_{\\nu(T-t)})}{\\bar{F}(T - t)}\n",
    "+ 1_{\\{\\tau_1 \\le T - t\\}}\n",
    "\\sum_{Z \\in \\mathcal{M}(c)}\n",
    "\\int_t^T\n",
    "1_{\\{I_c = Z\\}}\n",
    "\\frac{\\prod_{z \\in Z}  z(u)(s,x + W_{\\nu(s-t)})}{q(I_c) \\rho(\\tau_1)}\n",
    "ds\n",
    "\\Biggr],\n",
    "\\end{equation}\n",
    "is modified to\n",
    "\\begin{equation}\n",
    "c(u)(t,x)\n",
    "= \\mathbb{E} \\Biggl[\n",
    "1_{\\{\\tau_1 > T - t\\}}\n",
    "1_{\\{x + W_u \\in \\Omega, \\ \\forall 0 \\le u \\le \\nu(T-t) \\}}\n",
    "\\frac{c(u)(T, x + W_{\\nu(T-t)})}{\\bar{F}(T - t)}\n",
    "+ 1_{\\{\\tau_1 \\le T - t\\}}\n",
    "\\sum_{Z \\in \\mathcal{M}(c)}\n",
    "\\int_t^T\n",
    "1_{\\{I_c = Z\\}}\n",
    "1_{\\{x + W_u \\in \\Omega, \\ \\forall 0 \\le u \\le \\nu(s-t) \\}}\n",
    "\\frac{\\prod_{z \\in Z}  z(u)(s,x + W_{\\nu(s-t)})}{q(I_c) \\rho(\\tau_1)}\n",
    "ds\n",
    "\\Biggr].\n",
    "\\end{equation}"
   ]
  },
  {
   "cell_type": "markdown",
   "id": "eb8003b8",
   "metadata": {},
   "source": [
    "## The first approach\n",
    "The first natural way to check for the indicator\n",
    "$1_{\\{x + W_u \\in \\Omega, \\ \\forall 0 \\le u \\le \\nu(s-t) \\}}$\n",
    "is to discretely simulate the full path of the Brownian motion\n",
    "$\\{ x + W_u: u = 0, \\frac{1}{m} \\nu(s-t), \\dots, \\nu(s-t) \\}$\n",
    "and check only those discrete points.\n",
    "This can be achieved by passing\n",
    "`bm_discretization_steps=m` to the deep branching solver.\n",
    "\n",
    "The advantage of such approach is that it allows us to deal with arbitrary domain $\\Omega$.\n",
    "The drawback of such approach is the longer runtime and the inaccuracy near the boundary $\\partial \\Omega$."
   ]
  },
  {
   "cell_type": "markdown",
   "id": "d3e800c1",
   "metadata": {},
   "source": [
    "## The second approach\n",
    "The second approach is to apply the tower property and\n",
    "to calculate the conditional probability to survive\n",
    "$$\n",
    "\\mathbb{E} [\n",
    "1_{\\{x + W_u \\in \\Omega, \\ \\forall 0 \\le u < \\nu(s-t) \\}}\n",
    "1_{\\{x + W_{\\nu(s-t)} \\in \\Omega \\}} \\ | \\ W_{\\nu(s-t)} ].\n",
    "$$\n",
    "\n",
    "In the case of the hyperrectangle\n",
    "$\\Omega = \\prod\\limits_{i=0}^{d_{in}-1} [a_i, b_i]$,\n",
    "the closed form solution of the conditional probability is given by\n",
    "$$\n",
    "\\prod\\limits_{i=0}^{d_{in} - 1}\n",
    "\\frac{1}{\\sqrt{2 \\pi \\nu (s-t)}}\n",
    "\\sum\\limits_{k = -\\infty}^\\infty\n",
    "\\left(\n",
    "exp\\left(\n",
    "    \\frac{(W^{(i)}_{\\nu(s-t)})^2 - (W^{(i)}_{\\nu(s-t)} + 2k(b_i - a_i))^2}\n",
    "    {2\\nu(s-t)}\n",
    "\\right)\n",
    "-\n",
    "exp\\left(\n",
    "    \\frac{(W^{(i)}_{\\nu(s-t)})^2 - (2x + W^{(i)}_{\\nu(s-t)} -2a_i + 2k(b_i - a_i))^2}\n",
    "    {2\\nu(s-t)}\n",
    "\\right)\n",
    "\\right),\n",
    "$$\n",
    "see e.g. (4.44) in [[Bor17]](#borodin2017).\n",
    "This can be achieved by passing the correct formula to the deep branching solver\n",
    "via `conditional_probability_to_survive`.\n",
    "\n",
    "The advantage of such approach is the shorter runtime and the accuracy over the whole domain.\n",
    "The drawback of such approach is that the formula\n",
    "may not be available for domains other than the hyperrectangle."
   ]
  },
  {
   "cell_type": "markdown",
   "id": "7c7afa26",
   "metadata": {
    "id": "7c7afa26",
    "pycharm": {
     "name": "#%% md\n"
    }
   },
   "source": [
    "## The formula given by Borodin"
   ]
  },
  {
   "cell_type": "code",
   "execution_count": 2,
   "id": "dfa83a2a",
   "metadata": {
    "executionInfo": {
     "elapsed": 10,
     "status": "ok",
     "timestamp": 1654236438727,
     "user": {
      "displayName": "nguwi jy",
      "userId": "17294038731682000497"
     },
     "user_tz": -480
    },
    "id": "dfa83a2a",
    "pycharm": {
     "name": "#%%\n"
    }
   },
   "outputs": [],
   "source": [
    "def conditional_probability_to_survive(\n",
    "    t,\n",
    "    x,\n",
    "    y,\n",
    "    k_arr=range(-5, 5),\n",
    "    lower_bound=-10,\n",
    "    upper_bound=10,\n",
    "):\n",
    "    # in case lower_bound & upper_bound are not tensor\n",
    "    if not torch.is_tensor(lower_bound):\n",
    "        lower_bound = torch.tensor(lower_bound, device=device)\n",
    "    if not torch.is_tensor(upper_bound):\n",
    "        upper_bound = torch.tensor(upper_bound, device=device)\n",
    "\n",
    "    # transpose (t, x, y)\n",
    "    # so that the operation with lower_bound, upper_bound is correct\n",
    "    t = t.unsqueeze(dim=0).transpose(0, -1)\n",
    "    x, y = x.transpose(0, -1), y.transpose(0, -1)\n",
    "\n",
    "    # calculate the probability using the formula by Borodin\n",
    "    ans = 0\n",
    "    for k in k_arr:\n",
    "        ans += (\n",
    "            torch.exp(\n",
    "                ((y - x) ** 2 - (y - x + 2*k*(upper_bound-lower_bound)) ** 2) \n",
    "                / (2 * t)\n",
    "            )\n",
    "            - torch.exp(\n",
    "                ((y - x) ** 2 - (y + x - 2*lower_bound + 2*k*(upper_bound-lower_bound)) ** 2) \n",
    "                / (2 * t)\n",
    "            )\n",
    "        )\n",
    "    # print(ans.transpose(0, -1).prod(dim=0))\n",
    "    return ans.transpose(0, -1).prod(dim=0)\n",
    "\n",
    "def is_x_inside(x, lower_bound=-10, upper_bound=10):\n",
    "    # in case lower_bound & upper_bound are not tensor\n",
    "    if not torch.is_tensor(lower_bound):\n",
    "        lower_bound = torch.tensor(lower_bound, device=device)\n",
    "    if not torch.is_tensor(upper_bound):\n",
    "        upper_bound = torch.tensor(upper_bound, device=device)\n",
    "\n",
    "    # transpose x so that the operation with lower_bound, upper_bound is correct\n",
    "    x = x.transpose(0, -1)\n",
    "\n",
    "    return (\n",
    "        torch.logical_and(lower_bound <= x, x <= upper_bound)\n",
    "        .transpose(0, -1).all(dim=0)\n",
    "    )"
   ]
  },
  {
   "cell_type": "markdown",
   "id": "97ae5067",
   "metadata": {
    "id": "97ae5067",
    "pycharm": {
     "name": "#%% md\n"
    }
   },
   "source": [
    "## Heat equation with zero boundary condition"
   ]
  },
  {
   "cell_type": "markdown",
   "id": "53be4e81",
   "metadata": {
    "id": "53be4e81",
    "pycharm": {
     "name": "#%% md\n"
    }
   },
   "source": [
    "The heat equation\n",
    "$$\n",
    "\\begin{cases}\n",
    "& \\partial_t u_A(t, x) + \\frac{\\nu}{2}\\Delta u_A(t, x) = 0, \\qquad \\text{for all } (t, x) \\in [0, T] \\times \\Omega,\n",
    "\\\\\n",
    "& u_A(T, x) = 1_{x \\in A}, \\qquad \\text{for all } x \\in \\Omega,\n",
    "\\\\\n",
    "& u_A(t, x) = 0, \\qquad \\text{for all } (t, x) \\in [0, T] \\times \\partial\\Omega,\n",
    "\\end{cases}\n",
    "$$\n",
    "where\n",
    "$A = [a, b]$\n",
    "and\n",
    "$\\Omega = [\\text{lo}, \\text{hi}]$,\n",
    "admits the closed-form solution of\n",
    "$$\n",
    "u_A(t, x) = \n",
    "\\sum\\limits_{k=-\\infty}^\\infty\n",
    " \\Phi\\left(\\frac{b - x + 2k(\\text{hi}-\\text{lo})}{\\sqrt{\\nu(T-t)}}\\right)\n",
    "- \\Phi\\left(\\frac{a - x + 2k(\\text{hi}-\\text{lo})}{\\sqrt{\\nu(T-t)}}\\right)\n",
    "- \\Phi\\left(\\frac{b + x - 2\\text{lo} + 2k(\\text{hi}-\\text{lo})}{\\sqrt{\\nu(T-t)}}\\right)\n",
    "+ \\Phi\\left(\\frac{a + x - 2\\text{lo} + 2k(\\text{hi}-\\text{lo})}{\\sqrt{\\nu(T-t)}}\\right).\n",
    "$$\n",
    "On the other hand, when $\\text{hi} \\to \\infty$ and $\\text{lo} \\to -\\infty$, the solution is given by\n",
    "$$\n",
    "u_A(t, x) = \n",
    "\\Phi\\left(\\frac{b - x}{\\sqrt{\\nu(T-t)}}\\right)\n",
    "- \\Phi\\left(\\frac{a - x}{\\sqrt{\\nu(T-t)}}\\right).\n",
    "$$"
   ]
  },
  {
   "cell_type": "code",
   "execution_count": 3,
   "id": "2b4b6ed0",
   "metadata": {
    "executionInfo": {
     "elapsed": 9,
     "status": "ok",
     "timestamp": 1654236438728,
     "user": {
      "displayName": "nguwi jy",
      "userId": "17294038731682000497"
     },
     "user_tz": -480
    },
    "id": "2b4b6ed0",
    "pycharm": {
     "name": "#%%\n"
    }
   },
   "outputs": [],
   "source": [
    "problem_name = \"heat_equation\"\n",
    "nu = 1\n",
    "y, eps = 0, 1\n",
    "a, b = y - eps, y + eps\n",
    "\n",
    "# function definition\n",
    "deriv_map = np.array([0]).reshape(-1, 1)\n",
    "def f_example(y, coordinate=0):\n",
    "    \"\"\"\n",
    "    idx 0 -> no deriv\n",
    "    \"\"\"\n",
    "    return torch.zeros_like(y[0])\n",
    "\n",
    "def phi_example(x, coordinate=0):\n",
    "    return torch.logical_and(x[0] <= b, x[0] >= a).float()\n",
    "\n",
    "def exact_example(t, x, T, coordinate=0, lower_bound=-10, upper_bound=10, with_bound=False, k_arr=range(-5, 5)):\n",
    "    if t == T:\n",
    "        return np.logical_and(x[0] <= b, x[0] >= a)\n",
    "    else:\n",
    "        normal_std = math.sqrt(nu * (T - t))\n",
    "        if not with_bound:\n",
    "            # without bound\n",
    "            return norm.cdf((b - x[0]) / normal_std) - norm.cdf((a - x[0]) / normal_std)\n",
    "        else:\n",
    "            # with bound\n",
    "            ans = 0\n",
    "            for k in k_arr:\n",
    "                mu = x[0] - 2 * k * (upper_bound - lower_bound)\n",
    "                ans += (norm.cdf((b - mu) / normal_std) - norm.cdf((a - mu) / normal_std))\n",
    "                mu = 2 * lower_bound - 2 * k * (upper_bound - lower_bound) - x[0]\n",
    "                ans -= (norm.cdf((b - mu) / normal_std) - norm.cdf((a - mu) / normal_std))\n",
    "            return ans\n",
    "\n",
    "t_lo, x_lo, x_hi = 0., -2, 2"
   ]
  },
  {
   "cell_type": "code",
   "execution_count": 4,
   "id": "-8N9_g8nIDFV",
   "metadata": {
    "colab": {
     "base_uri": "https://localhost:8080/",
     "height": 1000
    },
    "executionInfo": {
     "elapsed": 11856,
     "status": "error",
     "timestamp": 1654236450575,
     "user": {
      "displayName": "nguwi jy",
      "userId": "17294038731682000497"
     },
     "user_tz": -480
    },
    "id": "-8N9_g8nIDFV",
    "outputId": "94c0d63b-b3b0-4d16-c6b3-c815674f1dcc"
   },
   "outputs": [
    {
     "name": "stderr",
     "output_type": "stream",
     "text": [
      "Logs are saved in /home/nguwijy/repo/deep_branching_with_domain/logs/tmp\n",
      "Patch 0: generation of u samples take 192.8606300354004 seconds.\n",
      "Patch  0: epoch    0 with loss 1.11E+01\n",
      "Patch  0: epoch  500 with loss 4.64E-05\n",
      "Patch  0: epoch 1000 with loss 8.43E-05\n",
      "Patch  0: epoch 1500 with loss 1.95E-05\n",
      "Patch  0: epoch 2000 with loss 2.19E-05\n",
      "Patch  0: epoch 2500 with loss 1.87E-05\n",
      "Patch  0: epoch 3000 with loss 2.09E-05\n",
      "Patch  0: epoch 3500 with loss 3.10E-05\n",
      "Patch  0: epoch 4000 with loss 2.07E-05\n",
      "Patch  0: epoch 4500 with loss 5.70E-05\n",
      "Patch  0: epoch 4999 with loss 2.06E-05\n",
      "Patch 0: training of u with 5000 epochs take 35.01293158531189 seconds.\n"
     ]
    },
    {
     "data": {
      "image/png": "[encoded data removed]",
      "text/plain": [
       "<Figure size 432x288 with 1 Axes>"
      ]
     },
     "metadata": {
      "needs_background": "light"
     },
     "output_type": "display_data"
    }
   ],
   "source": [
    "# based on BM discretization\n",
    "patches = 1\n",
    "T = patches * 1.\n",
    "\n",
    "# define NN and train\n",
    "torch.manual_seed(0)\n",
    "model = Net(\n",
    "    problem_name=problem_name,\n",
    "    f_fun=f_example,\n",
    "    deriv_map=deriv_map,\n",
    "    phi_fun=phi_example,\n",
    "    # conditional_probability_to_survive=partial(conditional_probability_to_survive, lower_bound=x_lo, upper_bound=x_hi),\n",
    "    is_x_inside=partial(is_x_inside, lower_bound=x_lo, upper_bound=x_hi),\n",
    "    bm_discretization_steps=500,\n",
    "    device=device,\n",
    "    x_lo=x_lo,\n",
    "    x_hi=x_hi,\n",
    "    T=T,\n",
    "    verbose=True,\n",
    "    nu=nu,\n",
    "    branch_patches=patches,\n",
    "    overtrain_rate=0.,\n",
    "    save_for_best_model=False,\n",
    "    save_as_tmp=True,\n",
    ")\n",
    "model.train_and_eval(debug_mode=False)\n",
    "model.compare_with_exact(exact_fun=partial(exact_example, lower_bound=x_lo, upper_bound=x_hi, with_bound=True))"
   ]
  },
  {
   "cell_type": "code",
   "execution_count": 5,
   "id": "4RM9J8jmCsBg",
   "metadata": {
    "colab": {
     "base_uri": "https://localhost:8080/",
     "height": 515
    },
    "executionInfo": {
     "elapsed": 38433,
     "status": "ok",
     "timestamp": 1654235647175,
     "user": {
      "displayName": "nguwi jy",
      "userId": "17294038731682000497"
     },
     "user_tz": -480
    },
    "id": "4RM9J8jmCsBg",
    "outputId": "1e2a76bc-7f46-4cf9-b4a6-82f9aea0dca1"
   },
   "outputs": [
    {
     "name": "stderr",
     "output_type": "stream",
     "text": [
      "Logs are saved in /home/nguwijy/repo/deep_branching_with_domain/logs/tmp\n",
      "Patch 0: generation of u samples take 4.0043253898620605 seconds.\n",
      "Patch  0: epoch    0 with loss 1.09E+01\n",
      "Patch  0: epoch  500 with loss 2.14E-05\n",
      "Patch  0: epoch 1000 with loss 1.47E-05\n",
      "Patch  0: epoch 1500 with loss 4.72E-05\n",
      "Patch  0: epoch 2000 with loss 1.43E-05\n",
      "Patch  0: epoch 2500 with loss 1.44E-05\n",
      "Patch  0: epoch 3000 with loss 1.43E-05\n",
      "Patch  0: epoch 3500 with loss 1.95E-04\n",
      "Patch  0: epoch 4000 with loss 1.53E-05\n",
      "Patch  0: epoch 4500 with loss 2.32E-05\n",
      "Patch  0: epoch 4999 with loss 1.72E-05\n",
      "Patch 0: training of u with 5000 epochs take 34.86519742012024 seconds.\n"
     ]
    },
    {
     "data": {
      "image/png": "[encoded data removed]",
      "text/plain": [
       "<Figure size 432x288 with 1 Axes>"
      ]
     },
     "metadata": {
      "needs_background": "light"
     },
     "output_type": "display_data"
    }
   ],
   "source": [
    "# based on the formula by Borodin\n",
    "patches = 1\n",
    "T = patches * 1.\n",
    "\n",
    "# define NN and train\n",
    "torch.manual_seed(0)\n",
    "model = Net(\n",
    "    problem_name=problem_name,\n",
    "    f_fun=f_example,\n",
    "    deriv_map=deriv_map,\n",
    "    phi_fun=phi_example,\n",
    "    conditional_probability_to_survive=partial(conditional_probability_to_survive, lower_bound=x_lo, upper_bound=x_hi),\n",
    "    is_x_inside=partial(is_x_inside, lower_bound=x_lo, upper_bound=x_hi),\n",
    "    device=device,\n",
    "    x_lo=x_lo,\n",
    "    x_hi=x_hi,\n",
    "    T=T,\n",
    "    verbose=True,\n",
    "    nu=nu,\n",
    "    branch_patches=patches,\n",
    "    overtrain_rate=0.,\n",
    "    save_for_best_model=False,\n",
    "    save_as_tmp=True,\n",
    ")\n",
    "model.train_and_eval(debug_mode=False)\n",
    "model.compare_with_exact(exact_fun=partial(exact_example, lower_bound=x_lo, upper_bound=x_hi, with_bound=True))"
   ]
  },
  {
   "cell_type": "markdown",
   "id": "d9cfb9e0",
   "metadata": {},
   "source": [
    "## References\n",
    "<a id=\"borodin2017\">[Bor17]</a>\n",
    "A. N. Borodin.\n",
    "Stochastic processes.\n",
    "*Cham: Birkhäuser*, 2017."
   ]
  }
 ],
 "metadata": {
  "accelerator": "GPU",
  "colab": {
   "collapsed_sections": [],
   "name": "compare.ipynb",
   "provenance": []
  },
  "kernelspec": {
   "display_name": "Python 3 (ipykernel)",
   "language": "python",
   "name": "python3"
  },
  "language_info": {
   "codemirror_mode": {
    "name": "ipython",
    "version": 3
   },
   "file_extension": ".py",
   "mimetype": "text/x-python",
   "name": "python",
   "nbconvert_exporter": "python",
   "pygments_lexer": "ipython3",
   "version": "3.10.4"
  }
 },
 "nbformat": 4,
 "nbformat_minor": 5
}
