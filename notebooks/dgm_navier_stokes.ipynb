{
 "cells": [
  {
   "cell_type": "markdown",
   "metadata": {},
   "source": [
    "<table align=\"left\">\n",
    "  <td>\n",
    "    <a href=\"https://colab.research.google.com/github/nguwijy/deep_navier_stokes/blob/master/main.ipynb\" target=\"_parent\"><img src=\"https://colab.research.google.com/assets/colab-badge.svg\" alt=\"Open In Colab\"/></a>\n",
    "  </td>\n",
    "</table>"
   ]
  },
  {
   "cell_type": "markdown",
   "metadata": {
    "id": "GSuvC0ycqjNq",
    "pycharm": {
     "name": "#%% md\n"
    }
   },
   "source": [
    "# Imports & basic configuration"
   ]
  },
  {
   "cell_type": "code",
   "execution_count": 1,
   "metadata": {
    "colab": {
     "base_uri": "https://localhost:8080/"
    },
    "executionInfo": {
     "elapsed": 2706,
     "status": "ok",
     "timestamp": 1647940111437,
     "user": {
      "displayName": "nguwi jy",
      "photoUrl": "https://lh3.googleusercontent.com/a-/AOh14GgoiFFc59OKXMvhrMZCwWWzqPAzDXA1ooQ_zi8p=s64",
      "userId": "17294038731682000497"
     },
     "user_tz": -480
    },
    "id": "6357edd9",
    "outputId": "f45d2e8e-9123-4654-b639-cb824fdfdbdc",
    "pycharm": {
     "name": "#%%\n"
    }
   },
   "outputs": [],
   "source": [
    "import os\n",
    "import sys\n",
    "# install the package if not yet installed\n",
    "try:\n",
    "    from branch.galerkin import DGMNet\n",
    "except:\n",
    "    !python -m pip install git+https://github.com/nguwijy/deep_branching_with_domain.git\n",
    "    from branch.galerkin import DGMNet\n",
    "import numbers\n",
    "import math\n",
    "from scipy import special\n",
    "import numpy as np\n",
    "import torch\n",
    "import matplotlib.pyplot as plt\n",
    "import matplotlib.colors\n",
    "from matplotlib import cm \n",
    "import time\n",
    "import logging\n",
    "from pynverse import inversefunc\n",
    "from functools import partial\n",
    "\n",
    "device = torch.device(\"cuda\" if torch.cuda.is_available() else \"cpu\")"
   ]
  },
  {
   "cell_type": "code",
   "execution_count": 2,
   "metadata": {
    "colab": {
     "base_uri": "https://localhost:8080/"
    },
    "executionInfo": {
     "elapsed": 362,
     "status": "ok",
     "timestamp": 1647940117264,
     "user": {
      "displayName": "nguwi jy",
      "photoUrl": "https://lh3.googleusercontent.com/a-/AOh14GgoiFFc59OKXMvhrMZCwWWzqPAzDXA1ooQ_zi8p=s64",
      "userId": "17294038731682000497"
     },
     "user_tz": -480
    },
    "id": "GKSN0XXSwzs_",
    "outputId": "479076d5-d9fa-418a-99aa-b38c14893038",
    "pycharm": {
     "name": "#%%\n"
    }
   },
   "outputs": [
    {
     "name": "stdout",
     "output_type": "stream",
     "text": [
      "torch version: 1.11.0+cu113\n"
     ]
    }
   ],
   "source": [
    "# perfect reproducibility is not guaranteed with different version of torch\n",
    "#\n",
    "print(f\"torch version: {torch.__version__}\")"
   ]
  },
  {
   "cell_type": "code",
   "execution_count": 3,
   "metadata": {
    "colab": {
     "base_uri": "https://localhost:8080/"
    },
    "executionInfo": {
     "elapsed": 29,
     "status": "ok",
     "timestamp": 1647940111438,
     "user": {
      "displayName": "nguwi jy",
      "photoUrl": "https://lh3.googleusercontent.com/a-/AOh14GgoiFFc59OKXMvhrMZCwWWzqPAzDXA1ooQ_zi8p=s64",
      "userId": "17294038731682000497"
     },
     "user_tz": -480
    },
    "id": "W8KR70pwVNfJ",
    "outputId": "0971b8c8-a20c-424a-d81f-1b53d6b34b84",
    "pycharm": {
     "name": "#%%\n"
    }
   },
   "outputs": [
    {
     "name": "stdout",
     "output_type": "stream",
     "text": [
      "Information of the allocated GPU.\n",
      "Sun Nov  6 21:02:17 2022       \n",
      "+-----------------------------------------------------------------------------+\n",
      "| NVIDIA-SMI 515.65.01    Driver Version: 515.65.01    CUDA Version: 11.7     |\n",
      "|-------------------------------+----------------------+----------------------+\n",
      "| GPU  Name        Persistence-M| Bus-Id        Disp.A | Volatile Uncorr. ECC |\n",
      "| Fan  Temp  Perf  Pwr:Usage/Cap|         Memory-Usage | GPU-Util  Compute M. |\n",
      "|                               |                      |               MIG M. |\n",
      "|===============================+======================+======================|\n",
      "|   0  NVIDIA GeForce ...  Off  | 00000000:07:00.0  On |                  N/A |\n",
      "| 30%   49C    P8    43W / 350W |    504MiB / 12288MiB |     23%      Default |\n",
      "|                               |                      |                  N/A |\n",
      "+-------------------------------+----------------------+----------------------+\n",
      "                                                                               \n",
      "+-----------------------------------------------------------------------------+\n",
      "| Processes:                                                                  |\n",
      "|  GPU   GI   CI        PID   Type   Process name                  GPU Memory |\n",
      "|        ID   ID                                                   Usage      |\n",
      "|=============================================================================|\n",
      "+-----------------------------------------------------------------------------+\n"
     ]
    }
   ],
   "source": [
    "print(\"Information of the allocated GPU.\")\n",
    "!nvidia-smi"
   ]
  },
  {
   "cell_type": "markdown",
   "metadata": {
    "id": "puBETzqybZc7",
    "pycharm": {
     "name": "#%% md\n"
    }
   },
   "source": [
    "# Navier-Stokes equation\n",
    "$$\n",
    "\\begin{cases}\n",
    "  \\displaystyle\n",
    "  \\partial_t u_i(t,x) + \\frac{\\nu}{2} \\Delta u_i(t,x) = \\partial_{1_i} p(t,x) + \\sum\\limits_{j=0}^{d-1} u_j(t,x) \\partial_{1_j} u_i(t,x), \\quad i = 0,\\ldots , d-1,\n",
    "  \\\\\n",
    "u_i(T,x) = \\phi_i (x),\n",
    "  \\\\\n",
    "  \\displaystyle\n",
    "  \\Delta u_{-1}(t, x) = -\\sum\\limits_{i,j=0}^{d-1} \\partial_{1_j} u_i(t,x) \\partial_{1_i} u_j(t,x),\n",
    "   \\\\\n",
    "\\sum\\limits_{i = 0}^{d - 1} \\partial_{1_i} u_i(t, x) = 0, \\quad (t,x) = (t,x_1, \\ldots, x_d) \\in [0,T] \\times \\mathbb{R}^d.\n",
    "\\end{cases}\n",
    "$$"
   ]
  },
  {
   "cell_type": "markdown",
   "metadata": {
    "id": "puBETzqybZc7",
    "pycharm": {
     "name": "#%% md\n"
    }
   },
   "source": [
    "## 2-dimensional Taylor-Green vortex\n",
    "$$\n",
    "\\begin{cases}\n",
    "  \\displaystyle\n",
    "  u_1(t, x) = - \\cos(x_1) \\sin(x_2) e^{-\\nu (T - t)},\n",
    "  \\\\\n",
    "  u_2(t, x) = \\sin(x_1) \\cos(x_2) e^{-\\nu (T - t)},\n",
    "  \\\\\n",
    "  \\displaystyle\n",
    "  u_0(t, x) = -\\frac{1}{4} \\left(\\cos(2x_1) + \\cos(2x_2)\\right) e^{-2\\nu (T - t)} + c,\n",
    "\\end{cases}\n",
    "$$\n",
    "$x=(x_1,x_2) \\in [0,2\\pi]^2$."
   ]
  },
  {
   "cell_type": "code",
   "execution_count": 4,
   "metadata": {
    "id": "_fyuebzCGhoj",
    "pycharm": {
     "name": "#%%\n"
    }
   },
   "outputs": [],
   "source": [
    "# function definition\n",
    "deriv_map = np.array(\n",
    "    [\n",
    "        [1, 0],  # for nabla p\n",
    "        [0, 1],\n",
    "        [0, 0],  # for u\n",
    "        [0, 0],\n",
    "        [1, 0],  # for nabla u1\n",
    "        [0, 1],\n",
    "        [1, 0],  # for nabla u2\n",
    "        [0, 1],\n",
    "        [2, 0],  # for Laplacian\n",
    "        [0, 2],\n",
    "    ]\n",
    ")\n",
    "zeta_map = np.array([-1, -1, 0, 1, 0, 0, 1, 1, 0, 1])\n",
    "deriv_condition_deriv_map = np.array(\n",
    "    [\n",
    "        [1, 0],\n",
    "        [0, 1],\n",
    "    ]\n",
    ")\n",
    "deriv_condition_zeta_map = np.array([0, 1])\n",
    "_, dim = deriv_map.shape\n",
    "\n",
    "def f_example(y, coordinate):\n",
    "    \"\"\"\n",
    "    idx 0 -> no deriv\n",
    "    \"\"\"\n",
    "    f = -y[coordinate]\n",
    "    for j in range(dim):\n",
    "        f += -y[dim + j] * y[2 * dim + dim * coordinate + j]\n",
    "        # Laplacian\n",
    "        f += nu / 2 * (y[2 * dim + dim * dim + j])\n",
    "    return f\n",
    "\n",
    "def phi_example(x, coordinate):\n",
    "    if coordinate == 0:\n",
    "        return -torch.cos(x[0]) * torch.sin(x[1])\n",
    "    else:\n",
    "        return torch.sin(x[0]) * torch.cos(x[1])\n",
    "\n",
    "def exact_example(t, x, T, coordinate, nu):\n",
    "    if coordinate == 0:\n",
    "        return -np.cos(x[0]) * np.sin(x[1]) * np.exp(-nu * (T - t))\n",
    "    else:\n",
    "        return np.sin(x[0]) * np.cos(x[1]) * np.exp(-nu * (T - t))\n",
    "\n",
    "def exact_example_u_tensor(tx, coordinate, T, nu):\n",
    "    if coordinate == 0:\n",
    "        return -torch.cos(tx[1]) * torch.sin(tx[2]) * torch.exp(-nu * (T - tx[0]))\n",
    "    else:\n",
    "        return torch.sin(tx[1]) * torch.cos(tx[2]) * torch.exp(-nu * (T - tx[0]))\n",
    "\n",
    "def exact_example_p_tensor(tx):\n",
    "    return (\n",
    "        -1/ 4\n",
    "        * torch.exp(-2 * nu * (T - tx[0]))\n",
    "        * (torch.cos(2 * tx[1]) + torch.cos(2 * tx[2]))\n",
    "    )\n",
    "\n",
    "problem_name = \"taylor_green_2d\"\n",
    "t_lo, x_lo, x_hi = 0., 0, 2 * math.pi"
   ]
  },
  {
   "cell_type": "markdown",
   "metadata": {
    "pycharm": {
     "name": "#%% md\n"
    }
   },
   "source": [
    "### T = .25, nu = 2"
   ]
  },
  {
   "cell_type": "code",
   "execution_count": 5,
   "metadata": {
    "colab": {
     "base_uri": "https://localhost:8080/",
     "height": 1000
    },
    "executionInfo": {
     "elapsed": 1819106,
     "status": "ok",
     "timestamp": 1647941958787,
     "user": {
      "displayName": "nguwi jy",
      "photoUrl": "https://lh3.googleusercontent.com/a-/AOh14GgoiFFc59OKXMvhrMZCwWWzqPAzDXA1ooQ_zi8p=s64",
      "userId": "17294038731682000497"
     },
     "user_tz": -480
    },
    "id": "z249CC8jhDwl",
    "outputId": "874b2413-7201-4162-8d26-03b16de8216a",
    "pycharm": {
     "name": "#%%\n"
    },
    "scrolled": true
   },
   "outputs": [
    {
     "name": "stderr",
     "output_type": "stream",
     "text": [
      "Logs are saved in /home/oem/deep_branching_with_domain/notebooks/logs/20221106-210220-taylor_green_2d\n",
      "Epoch 0 with loss 0.29005107283592224\n",
      "Epoch 500 with loss 0.032900989055633545\n"
     ]
    },
    {
     "ename": "RuntimeError",
     "evalue": "CUDA error: CUBLAS_STATUS_INTERNAL_ERROR when calling `cublasSgemm( handle, opa, opb, m, n, k, &alpha, a, lda, b, ldb, &beta, c, ldc)`",
     "output_type": "error",
     "traceback": [
      "\u001b[0;31m---------------------------------------------------------------------------\u001b[0m",
      "\u001b[0;31mRuntimeError\u001b[0m                              Traceback (most recent call last)",
      "Cell \u001b[0;32mIn [5], line 20\u001b[0m\n\u001b[1;32m      3\u001b[0m torch\u001b[38;5;241m.\u001b[39mmanual_seed(\u001b[38;5;241m0\u001b[39m)\n\u001b[1;32m      4\u001b[0m model \u001b[38;5;241m=\u001b[39m DGMNet(\n\u001b[1;32m      5\u001b[0m     problem_name\u001b[38;5;241m=\u001b[39mproblem_name,\n\u001b[1;32m      6\u001b[0m     dgm_f_fun\u001b[38;5;241m=\u001b[39mf_example,\n\u001b[0;32m   (...)\u001b[0m\n\u001b[1;32m     18\u001b[0m     dgm_nb_states\u001b[38;5;241m=\u001b[39m\u001b[38;5;241m10000\u001b[39m,\n\u001b[1;32m     19\u001b[0m )\n\u001b[0;32m---> 20\u001b[0m \u001b[43mmodel\u001b[49m\u001b[38;5;241;43m.\u001b[39;49m\u001b[43mtrain_and_eval\u001b[49m\u001b[43m(\u001b[49m\u001b[43m)\u001b[49m\n",
      "File \u001b[0;32m~/.local/lib/python3.8/site-packages/branch/galerkin.py:459\u001b[0m, in \u001b[0;36mDGMNet.train_and_eval\u001b[0;34m(self, debug_mode)\u001b[0m\n\u001b[1;32m    454\u001b[0m         grad \u001b[38;5;241m+\u001b[39m\u001b[38;5;241m=\u001b[39m \u001b[38;5;28mself\u001b[39m\u001b[38;5;241m.\u001b[39mnth_derivatives(\n\u001b[1;32m    455\u001b[0m             np\u001b[38;5;241m.\u001b[39minsert(c, \u001b[38;5;241m0\u001b[39m, \u001b[38;5;241m0\u001b[39m), \u001b[38;5;28mself\u001b[39m(xx\u001b[38;5;241m.\u001b[39mT, coordinate\u001b[38;5;241m=\u001b[39midx), xx\n\u001b[1;32m    456\u001b[0m         )\n\u001b[1;32m    458\u001b[0m \u001b[38;5;66;03m# update model weights\u001b[39;00m\n\u001b[0;32m--> 459\u001b[0m \u001b[43mloss\u001b[49m\u001b[38;5;241;43m.\u001b[39;49m\u001b[43mbackward\u001b[49m\u001b[43m(\u001b[49m\u001b[43m)\u001b[49m\n\u001b[1;32m    460\u001b[0m optimizer\u001b[38;5;241m.\u001b[39mstep()\n\u001b[1;32m    462\u001b[0m \u001b[38;5;66;03m# print loss information every 500 epochs\u001b[39;00m\n",
      "File \u001b[0;32m~/.local/lib/python3.8/site-packages/torch/_tensor.py:363\u001b[0m, in \u001b[0;36mTensor.backward\u001b[0;34m(self, gradient, retain_graph, create_graph, inputs)\u001b[0m\n\u001b[1;32m    354\u001b[0m \u001b[38;5;28;01mif\u001b[39;00m has_torch_function_unary(\u001b[38;5;28mself\u001b[39m):\n\u001b[1;32m    355\u001b[0m     \u001b[38;5;28;01mreturn\u001b[39;00m handle_torch_function(\n\u001b[1;32m    356\u001b[0m         Tensor\u001b[38;5;241m.\u001b[39mbackward,\n\u001b[1;32m    357\u001b[0m         (\u001b[38;5;28mself\u001b[39m,),\n\u001b[0;32m   (...)\u001b[0m\n\u001b[1;32m    361\u001b[0m         create_graph\u001b[38;5;241m=\u001b[39mcreate_graph,\n\u001b[1;32m    362\u001b[0m         inputs\u001b[38;5;241m=\u001b[39minputs)\n\u001b[0;32m--> 363\u001b[0m \u001b[43mtorch\u001b[49m\u001b[38;5;241;43m.\u001b[39;49m\u001b[43mautograd\u001b[49m\u001b[38;5;241;43m.\u001b[39;49m\u001b[43mbackward\u001b[49m\u001b[43m(\u001b[49m\u001b[38;5;28;43mself\u001b[39;49m\u001b[43m,\u001b[49m\u001b[43m \u001b[49m\u001b[43mgradient\u001b[49m\u001b[43m,\u001b[49m\u001b[43m \u001b[49m\u001b[43mretain_graph\u001b[49m\u001b[43m,\u001b[49m\u001b[43m \u001b[49m\u001b[43mcreate_graph\u001b[49m\u001b[43m,\u001b[49m\u001b[43m \u001b[49m\u001b[43minputs\u001b[49m\u001b[38;5;241;43m=\u001b[39;49m\u001b[43minputs\u001b[49m\u001b[43m)\u001b[49m\n",
      "File \u001b[0;32m~/.local/lib/python3.8/site-packages/torch/autograd/__init__.py:173\u001b[0m, in \u001b[0;36mbackward\u001b[0;34m(tensors, grad_tensors, retain_graph, create_graph, grad_variables, inputs)\u001b[0m\n\u001b[1;32m    168\u001b[0m     retain_graph \u001b[38;5;241m=\u001b[39m create_graph\n\u001b[1;32m    170\u001b[0m \u001b[38;5;66;03m# The reason we repeat same the comment below is that\u001b[39;00m\n\u001b[1;32m    171\u001b[0m \u001b[38;5;66;03m# some Python versions print out the first line of a multi-line function\u001b[39;00m\n\u001b[1;32m    172\u001b[0m \u001b[38;5;66;03m# calls in the traceback and some print out the last line\u001b[39;00m\n\u001b[0;32m--> 173\u001b[0m \u001b[43mVariable\u001b[49m\u001b[38;5;241;43m.\u001b[39;49m\u001b[43m_execution_engine\u001b[49m\u001b[38;5;241;43m.\u001b[39;49m\u001b[43mrun_backward\u001b[49m\u001b[43m(\u001b[49m\u001b[43m  \u001b[49m\u001b[38;5;66;43;03m# Calls into the C++ engine to run the backward pass\u001b[39;49;00m\n\u001b[1;32m    174\u001b[0m \u001b[43m    \u001b[49m\u001b[43mtensors\u001b[49m\u001b[43m,\u001b[49m\u001b[43m \u001b[49m\u001b[43mgrad_tensors_\u001b[49m\u001b[43m,\u001b[49m\u001b[43m \u001b[49m\u001b[43mretain_graph\u001b[49m\u001b[43m,\u001b[49m\u001b[43m \u001b[49m\u001b[43mcreate_graph\u001b[49m\u001b[43m,\u001b[49m\u001b[43m \u001b[49m\u001b[43minputs\u001b[49m\u001b[43m,\u001b[49m\n\u001b[1;32m    175\u001b[0m \u001b[43m    \u001b[49m\u001b[43mallow_unreachable\u001b[49m\u001b[38;5;241;43m=\u001b[39;49m\u001b[38;5;28;43;01mTrue\u001b[39;49;00m\u001b[43m,\u001b[49m\u001b[43m \u001b[49m\u001b[43maccumulate_grad\u001b[49m\u001b[38;5;241;43m=\u001b[39;49m\u001b[38;5;28;43;01mTrue\u001b[39;49;00m\u001b[43m)\u001b[49m\n",
      "\u001b[0;31mRuntimeError\u001b[0m: CUDA error: CUBLAS_STATUS_INTERNAL_ERROR when calling `cublasSgemm( handle, opa, opb, m, n, k, &alpha, a, lda, b, ldb, &beta, c, ldc)`"
     ]
    }
   ],
   "source": [
    "T, nu = .25, 2\n",
    "\n",
    "torch.manual_seed(0)\n",
    "model = DGMNet(\n",
    "    problem_name=problem_name,\n",
    "    dgm_f_fun=f_example,\n",
    "    phi_fun=phi_example,\n",
    "    dgm_deriv_map=deriv_map,\n",
    "    dgm_zeta_map=zeta_map,\n",
    "    deriv_condition_deriv_map=deriv_condition_deriv_map,\n",
    "    deriv_condition_zeta_map=deriv_condition_zeta_map,\n",
    "    t_hi=T,\n",
    "    x_lo=x_lo,\n",
    "    x_hi=x_hi,\n",
    "    device=device,\n",
    "    verbose=True,\n",
    "    epochs=1000,\n",
    "    dgm_nb_states=10000,\n",
    ")\n",
    "model.train_and_eval()"
   ]
  },
  {
   "cell_type": "code",
   "execution_count": null,
   "metadata": {},
   "outputs": [],
   "source": [
    "model.error_calculation(\n",
    "    exact_u_fun=partial(exact_example_u_tensor, nu=nu, T=T),\n",
    "    exact_p_fun=exact_example_p_tensor,\n",
    "    nb_pts_spatial=2*126+1\n",
    ")\n",
    "model.compare_with_exact(exact_fun=partial(exact_example, nu=nu), exclude_terminal=True, ylim=(-1, 1))"
   ]
  },
  {
   "cell_type": "markdown",
   "metadata": {
    "id": "puBETzqybZc7",
    "pycharm": {
     "name": "#%% md\n"
    }
   },
   "source": [
    "## 3-dimensional ABC flow\n",
    "$$\n",
    "\\begin{cases}\n",
    "  \\displaystyle\n",
    "  u_1(t, x) = \\left(A \\sin(x_3) + C \\cos(x_2)\\right) e^{-\\frac{\\nu}{2} (T - t)},\n",
    "  \\\\\n",
    "  u_2(t, x) = \\left(B \\sin(x_1) + A \\cos(x_3)\\right) e^{-\\frac{\\nu}{2} (T - t)},\n",
    "  \\\\\n",
    "  u_3(t, x) = \\left(C \\sin(x_2) + B \\cos(x_1)\\right) e^{-\\frac{\\nu}{2} (T - t)},\n",
    "  \\\\\n",
    "  u_0(t, x) = -\\left(AC \\sin(x_3) \\cos(x_2) + BA \\sin(x_1) \\cos(x_3) + CB \\sin(x_2) \\cos(x_1)\\right) e^{-\\nu (T - t)} + c,\n",
    "\\end{cases}\n",
    "$$\n",
    "$x=(x_1,x_2,x_3) \\in [0,2\\pi]^3$."
   ]
  },
  {
   "cell_type": "code",
   "execution_count": null,
   "metadata": {
    "id": "_fyuebzCGhoj",
    "pycharm": {
     "name": "#%%\n"
    }
   },
   "outputs": [],
   "source": [
    "A = B = C = 0.5\n",
    "\n",
    "# function definition\n",
    "deriv_map = np.array(\n",
    "    [\n",
    "        [1, 0, 0],  # for nabla p\n",
    "        [0, 1, 0],\n",
    "        [0, 0, 1],\n",
    "        [0, 0, 0],  # for u\n",
    "        [0, 0, 0],\n",
    "        [0, 0, 0],\n",
    "        [1, 0, 0],  # for nabla u1\n",
    "        [0, 1, 0],\n",
    "        [0, 0, 1],\n",
    "        [1, 0, 0],  # for nabla u2\n",
    "        [0, 1, 0],\n",
    "        [0, 0, 1],\n",
    "        [1, 0, 0],  # for nabla u3\n",
    "        [0, 1, 0],\n",
    "        [0, 0, 1],\n",
    "    ]\n",
    ")\n",
    "zeta_map = np.array([-1, -1, -1, 0, 1, 2, 0, 0, 0, 1, 1, 1, 2, 2, 2])\n",
    "deriv_condition_deriv_map = np.array(\n",
    "    [\n",
    "        [1, 0, 0],\n",
    "        [0, 1, 0],\n",
    "        [0, 0, 1],\n",
    "    ]\n",
    ")\n",
    "deriv_condition_zeta_map = np.array([0, 1, 2])\n",
    "\n",
    "_, dim = deriv_map.shape\n",
    "\n",
    "def f_example(y, coordinate):\n",
    "    \"\"\"\n",
    "    idx 0 -> no deriv\n",
    "    \"\"\"\n",
    "    f = -y[coordinate]\n",
    "    for j in range(dim):\n",
    "        f += -y[dim + j] * y[2 * dim + dim * coordinate + j]\n",
    "    return f\n",
    "\n",
    "def phi_example(x, coordinate):\n",
    "    if coordinate == 0:\n",
    "        return A * torch.sin(x[2]) + C * torch.cos(x[1])\n",
    "    elif coordinate == 1:\n",
    "        return B * torch.sin(x[0]) + A * torch.cos(x[2])\n",
    "    else:\n",
    "        return C * torch.sin(x[1]) + B * torch.cos(x[0])\n",
    "\n",
    "def exact_example(t, x, T, coordinate, nu):\n",
    "    if coordinate == 0:\n",
    "        return (A * np.sin(x[2]) + C * np.cos(x[1])) * np.exp(-nu / 2 * (T - t))\n",
    "    elif coordinate == 1:\n",
    "        return (B * np.sin(x[0]) + A * np.cos(x[2])) * np.exp(-nu / 2 * (T - t))\n",
    "    else:\n",
    "        return (C * np.sin(x[1]) + B * np.cos(x[0])) * np.exp(-nu / 2 * (T - t))\n",
    "\n",
    "def exact_example_u_tensor(tx, coordinate, T, nu):\n",
    "    if coordinate == 0:\n",
    "        return (A * torch.sin(tx[3]) + C * torch.cos(tx[2])) * torch.exp(-nu / 2 * (T - tx[0]))\n",
    "    elif coordinate == 1:\n",
    "        return (B * torch.sin(tx[1]) + A * torch.cos(tx[3])) * torch.exp(-nu / 2 * (T - tx[0]))\n",
    "    else:\n",
    "        return (C * torch.sin(tx[2]) + B * torch.cos(tx[1])) * torch.exp(-nu / 2 * (T - tx[0]))\n",
    "\n",
    "def exact_example_p_tensor(tx):\n",
    "    return -torch.exp(-nu * (T - tx[0])) * (\n",
    "        A * C * torch.sin(tx[3]) * torch.cos(tx[2])\n",
    "        + B * A * torch.sin(tx[1]) * torch.cos(tx[3])\n",
    "        + C * B * torch.sin(tx[2]) * torch.cos(tx[1])\n",
    "    )\n",
    "\n",
    "problem_name = \"abc_3d\"\n",
    "t_lo, x_lo, x_hi = 0., 0, 2 * math.pi"
   ]
  },
  {
   "cell_type": "markdown",
   "metadata": {
    "pycharm": {
     "name": "#%% md\n"
    }
   },
   "source": [
    "### T = .7, nu = .02"
   ]
  },
  {
   "cell_type": "code",
   "execution_count": null,
   "metadata": {
    "colab": {
     "base_uri": "https://localhost:8080/",
     "height": 1000
    },
    "executionInfo": {
     "elapsed": 1819106,
     "status": "ok",
     "timestamp": 1647941958787,
     "user": {
      "displayName": "nguwi jy",
      "photoUrl": "https://lh3.googleusercontent.com/a-/AOh14GgoiFFc59OKXMvhrMZCwWWzqPAzDXA1ooQ_zi8p=s64",
      "userId": "17294038731682000497"
     },
     "user_tz": -480
    },
    "id": "z249CC8jhDwl",
    "outputId": "874b2413-7201-4162-8d26-03b16de8216a",
    "pycharm": {
     "name": "#%%\n"
    },
    "scrolled": true
   },
   "outputs": [],
   "source": [
    "T, nu = .7, .02\n",
    "\n",
    "torch.manual_seed(0)\n",
    "model = DGMNet(\n",
    "    problem_name=problem_name,\n",
    "    dgm_f_fun=f_example,\n",
    "    phi_fun=phi_example,\n",
    "    dgm_deriv_map=deriv_map,\n",
    "    dgm_zeta_map=zeta_map,\n",
    "    deriv_condition_deriv_map=deriv_condition_deriv_map,\n",
    "    deriv_condition_zeta_map=deriv_condition_zeta_map,\n",
    "    t_hi=T,\n",
    "    x_lo=x_lo,\n",
    "    x_hi=x_hi,\n",
    "    device=device,\n",
    "    verbose=True,\n",
    "    epochs=10000,\n",
    "    dgm_nb_states=10000,\n",
    ")\n",
    "model.train_and_eval()"
   ]
  },
  {
   "cell_type": "code",
   "execution_count": null,
   "metadata": {
    "scrolled": false
   },
   "outputs": [],
   "source": [
    "model.error_calculation(\n",
    "    exact_u_fun=partial(exact_example_u_tensor, nu=nu, T=T),\n",
    "    exact_p_fun=exact_example_p_tensor,\n",
    "    nb_pts_spatial=2*45+1\n",
    ")\n",
    "model.compare_with_exact(exact_fun=partial(exact_example, nu=nu), exclude_terminal=True, ylim=(-1, 0))"
   ]
  }
 ],
 "metadata": {
  "accelerator": "GPU",
  "colab": {
   "collapsed_sections": [
    "GSuvC0ycqjNq",
    "XC4ej7xCLaN1",
    "Rr6nHqQLYdLJ",
    "lGC3MnEEHLtv",
    "fQXKDk7IexOm",
    "u_dYHEeePLeD"
   ],
   "name": "comparison.ipynb",
   "provenance": [
    {
     "file_id": "/v2/external/notebooks/pro.ipynb",
     "timestamp": 1644891847321
    }
   ]
  },
  "kernelspec": {
   "display_name": "Python 3 (ipykernel)",
   "language": "python",
   "name": "python3"
  },
  "language_info": {
   "codemirror_mode": {
    "name": "ipython",
    "version": 3
   },
   "file_extension": ".py",
   "mimetype": "text/x-python",
   "name": "python",
   "nbconvert_exporter": "python",
   "pygments_lexer": "ipython3",
   "version": "3.8.15"
  }
 },
 "nbformat": 4,
 "nbformat_minor": 4
}
